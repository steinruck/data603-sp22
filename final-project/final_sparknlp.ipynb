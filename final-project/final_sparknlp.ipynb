{
  "nbformat": 4,
  "nbformat_minor": 0,
  "metadata": {
    "colab": {
      "name": "final_sparknlp.ipynb",
      "provenance": [],
      "collapsed_sections": [],
      "machine_shape": "hm",
      "authorship_tag": "ABX9TyPdcf3dwwnCf7pZ8vzVOGid",
      "include_colab_link": true
    },
    "kernelspec": {
      "name": "python3",
      "display_name": "Python 3"
    },
    "language_info": {
      "name": "python"
    }
  },
  "cells": [
    {
      "cell_type": "markdown",
      "metadata": {
        "id": "view-in-github",
        "colab_type": "text"
      },
      "source": [
        "<a href=\"https://colab.research.google.com/github/steinruck/data603-sp22/blob/project-submission/final-project/final_sparknlp.ipynb\" target=\"_parent\"><img src=\"https://colab.research.google.com/assets/colab-badge.svg\" alt=\"Open In Colab\"/></a>"
      ]
    },
    {
      "cell_type": "code",
      "execution_count": 2,
      "metadata": {
        "colab": {
          "base_uri": "https://localhost:8080/"
        },
        "id": "Ad73wyO4cV_H",
        "outputId": "6391b4a3-0ef9-45ef-aeeb-7fae5a7f215f"
      },
      "outputs": [
        {
          "output_type": "stream",
          "name": "stdout",
          "text": [
            "Mounted at /content/drive\n"
          ]
        }
      ],
      "source": [
        "from google.colab import drive\n",
        "drive.mount('/content/drive')"
      ]
    },
    {
      "cell_type": "code",
      "source": [
        "# this is to get sparknlp running in colab\n",
        "!wget http://setup.johnsnowlabs.com/colab.sh -O - | bash"
      ],
      "metadata": {
        "colab": {
          "base_uri": "https://localhost:8080/"
        },
        "id": "zf3_PeGwdH0C",
        "outputId": "e9bf8d7c-578b-4a24-dc00-575848c6ae51"
      },
      "execution_count": 3,
      "outputs": [
        {
          "output_type": "stream",
          "name": "stdout",
          "text": [
            "--2022-05-10 23:49:38--  http://setup.johnsnowlabs.com/colab.sh\n",
            "Resolving setup.johnsnowlabs.com (setup.johnsnowlabs.com)... 51.158.130.125\n",
            "Connecting to setup.johnsnowlabs.com (setup.johnsnowlabs.com)|51.158.130.125|:80... connected.\n",
            "HTTP request sent, awaiting response... 302 Found\n",
            "Location: https://setup.johnsnowlabs.com/colab.sh [following]\n",
            "--2022-05-10 23:49:38--  https://setup.johnsnowlabs.com/colab.sh\n",
            "Connecting to setup.johnsnowlabs.com (setup.johnsnowlabs.com)|51.158.130.125|:443... connected.\n",
            "HTTP request sent, awaiting response... 302 Moved Temporarily\n",
            "Location: https://raw.githubusercontent.com/JohnSnowLabs/spark-nlp/master/scripts/colab_setup.sh [following]\n",
            "--2022-05-10 23:49:38--  https://raw.githubusercontent.com/JohnSnowLabs/spark-nlp/master/scripts/colab_setup.sh\n",
            "Resolving raw.githubusercontent.com (raw.githubusercontent.com)... 185.199.108.133, 185.199.109.133, 185.199.110.133, ...\n",
            "Connecting to raw.githubusercontent.com (raw.githubusercontent.com)|185.199.108.133|:443... connected.\n",
            "HTTP request sent, awaiting response... 200 OK\n",
            "Length: 1603 (1.6K) [text/plain]\n",
            "Saving to: ‘STDOUT’\n",
            "\n",
            "-                     0%[                    ]       0  --.-KB/s               setup Colab for PySpark 3.0.3 and Spark NLP 3.4.4\n",
            "Installing PySpark 3.0.3 and Spark NLP 3.4.4\n",
            "-                   100%[===================>]   1.57K  --.-KB/s    in 0.001s  \n",
            "\n",
            "2022-05-10 23:49:39 (1.98 MB/s) - written to stdout [1603/1603]\n",
            "\n",
            "\u001b[K     |████████████████████████████████| 209.1 MB 49 kB/s \n",
            "\u001b[K     |████████████████████████████████| 145 kB 51.8 MB/s \n",
            "\u001b[K     |████████████████████████████████| 198 kB 60.4 MB/s \n",
            "\u001b[?25h  Building wheel for pyspark (setup.py) ... \u001b[?25l\u001b[?25hdone\n"
          ]
        }
      ]
    },
    {
      "cell_type": "code",
      "source": [
        "# start sparknlp session\n",
        "import sparknlp\n",
        "from sparknlp import DocumentAssembler\n",
        "from sparknlp.annotator import SentenceDetector\n",
        "from sparknlp.annotator import Tokenizer\n",
        "from pyspark.ml import Pipeline\n",
        "\n",
        "spark = sparknlp.start()\n",
        "\n",
        "print(\"Spark NLP version: {}\".format(sparknlp.version()))\n",
        "print(\"Apache Spark version: {}\".format(spark.version))"
      ],
      "metadata": {
        "colab": {
          "base_uri": "https://localhost:8080/"
        },
        "id": "qIeiS9X5dQG6",
        "outputId": "b5b211eb-05cd-4216-9407-401d6c289ce9"
      },
      "execution_count": 4,
      "outputs": [
        {
          "output_type": "stream",
          "name": "stdout",
          "text": [
            "Spark NLP version: 3.4.4\n",
            "Apache Spark version: 3.0.3\n"
          ]
        }
      ]
    },
    {
      "cell_type": "code",
      "source": [
        "from pyspark.sql.functions import col, regexp_replace, concat_ws, split, collect_list, explode, size, expr, array_contains, udf\n",
        "from pyspark.ml.feature import StopWordsRemover, CountVectorizer, IDF\n",
        "from pyspark.sql.types import StringType, ArrayType\n",
        "from pyspark.ml.clustering import LDA"
      ],
      "metadata": {
        "id": "r18FcDfX0lj2"
      },
      "execution_count": 77,
      "outputs": []
    },
    {
      "cell_type": "code",
      "source": [
        "# load dataset\n",
        "# starts as 7 rows; one for each book\n",
        "data = spark.read.csv('/content/drive/Shareddrives/Project/submission/books_6_rows.csv', header='true')"
      ],
      "metadata": {
        "id": "WQoL0BIldQSA"
      },
      "execution_count": 6,
      "outputs": []
    },
    {
      "cell_type": "code",
      "source": [
        "data.show()"
      ],
      "metadata": {
        "colab": {
          "base_uri": "https://localhost:8080/"
        },
        "id": "C7TQCKEAdQVH",
        "outputId": "da028e08-de0d-4322-f385-579991f6c9da"
      },
      "execution_count": 7,
      "outputs": [
        {
          "output_type": "stream",
          "name": "stdout",
          "text": [
            "+--------------------+--------------------+\n",
            "|                text|              titles|\n",
            "+--------------------+--------------------+\n",
            "| the boy who live...|The Philosophers ...|\n",
            "| . . l harry pott...|The Chamber of Se...|\n",
            "| owl post harry p...|The Prisoner of A...|\n",
            "| the riddle house...|  The Goblet of Fire|\n",
            "|harry potter dudl...|The Order of the ...|\n",
            "| the other minist...|The Half-Blood Pr...|\n",
            "|i the dark lord a...| The Deathly Hallows|\n",
            "+--------------------+--------------------+\n",
            "\n"
          ]
        }
      ]
    },
    {
      "cell_type": "markdown",
      "source": [
        "You can see above there are only 7 observations in this dataset. One for each book in the series. There are also some formatting errors, as well as extra characters. \n"
      ],
      "metadata": {
        "id": "eaT6J3Xbf-94"
      }
    },
    {
      "cell_type": "code",
      "source": [
        "data.count()"
      ],
      "metadata": {
        "colab": {
          "base_uri": "https://localhost:8080/"
        },
        "id": "kLWZe35pdQdE",
        "outputId": "2a92aac0-034d-4ac0-f32a-59b008723ed1"
      },
      "execution_count": 8,
      "outputs": [
        {
          "output_type": "execute_result",
          "data": {
            "text/plain": [
              "7"
            ]
          },
          "metadata": {},
          "execution_count": 8
        }
      ]
    },
    {
      "cell_type": "code",
      "source": [
        "# there are only two columns, both strings\n",
        "data.printSchema()"
      ],
      "metadata": {
        "colab": {
          "base_uri": "https://localhost:8080/"
        },
        "id": "IQ0pD1cJd2b2",
        "outputId": "eda42a7e-ed19-4ec4-96db-5a6db1bbde6b"
      },
      "execution_count": 9,
      "outputs": [
        {
          "output_type": "stream",
          "name": "stdout",
          "text": [
            "root\n",
            " |-- text: string (nullable = true)\n",
            " |-- titles: string (nullable = true)\n",
            "\n"
          ]
        }
      ]
    },
    {
      "cell_type": "markdown",
      "source": [
        "## Spark NLP\n",
        "This library from John Snow Labs includes many conventional Natural Language Processing options as well as a great number of pretrained models for a variety of purposes. If everything had gone to plan, I would have used pretrained models for lemmatization, named entity recognition, and others. However, running any pretrained model in Colab caused it to run out of ram, and any attempts to get a working environment using Databricks and a local Spark installation led to dependency issues I couldn't resolve. Instead, I will conduct some pre-processing and data cleaning using spark before moving into pandas and sklearn for modeling and prediction. \n",
        "\n",
        "---\n",
        "\n",
        "The first step is to make sure the data is in the format needed for annotators to use. In `sparknlp`, annotators can be either estimators or transformers, similar to Spark ML. There are two types of annotators: AnnotatorApproach and AnnotatorModel. AnnotatorApproach methods require a `transform()`, and AnnotatorModel methods require a `fit()` and a `transform()`.\n",
        "\n",
        "### DocumentAssembler\n",
        ">Transformers are used to convert a dataframe from one annotator type to the other. DocumentAssembler is one of these. This transformer annotates the raw data so that it is in the right format for other annotators to use. \n",
        "\n",
        "### SentenceDetector\n",
        ">The newly created 'document' column is fed into the SentenceDetector which creates an array of sentences and a new column called 'sentences'. In this case, the array is exploded so each sentence becomes a new line. \n",
        "\n",
        "### Tokenizer\n",
        ">Tokenizer is an annotator that transforms the DataFrame without using a pretrained model. It is used to convert strings into arrays of sentences with identifying metadata. It is of the AnnotatorModel type. \n",
        "\n",
        "### Pipeline\n",
        "> Spark NLP interacts with Spark ML via an API. All Spark annotators and transformers can be used in a pipeline. Each of the above can be run in sequence, passing the output as input to the next. "
      ],
      "metadata": {
        "id": "Jo-tU-O5i1f3"
      }
    },
    {
      "cell_type": "code",
      "source": [
        "# use DocumentAssembler on dataframe, input is the text column, output is document\n",
        "# id is the title of the book so each sentence remains connected to the book\n",
        "document_assembler = DocumentAssembler()\\\n",
        "    .setInputCol('text')\\\n",
        "    .setOutputCol('document')\\\n",
        "    .setIdCol('titles')\n",
        "\n",
        "# use SentenceDetector on document column, output sentence column - recognizes sentences\n",
        "# explode set to true (makes each sentence its own line)\n",
        "sent_detector = SentenceDetector()\\\n",
        "    .setInputCols(['document'])\\\n",
        "    .setOutputCol('sentences')\\\n",
        "    .setExplodeSentences(True)\n",
        "\n",
        "# use Tokenizer for word tokenization\n",
        "tokenizer = Tokenizer()\\\n",
        "    .setInputCols(['sentences'])\\\n",
        "    .setOutputCol('tokens')\n",
        "\n",
        "# set the stages of the pipeline\n",
        "pipeline = Pipeline(stages=[\n",
        "    document_assembler,\n",
        "    sent_detector,\n",
        "    tokenizer                         \n",
        "])\n",
        "\n",
        "# fit and transform \n",
        "pipeline_model = pipeline.fit(data).transform(data)"
      ],
      "metadata": {
        "id": "CsvtGgeCeA1y"
      },
      "execution_count": 10,
      "outputs": []
    },
    {
      "cell_type": "code",
      "source": [
        "# the output of the pipeline is a dataframe. It doesn't provide much use at first glance\n",
        "pipeline_model.show()"
      ],
      "metadata": {
        "colab": {
          "base_uri": "https://localhost:8080/"
        },
        "id": "HawKdDxseDHI",
        "outputId": "6511ee78-794b-4ac9-d749-d3f36b29548c"
      },
      "execution_count": 11,
      "outputs": [
        {
          "output_type": "stream",
          "name": "stdout",
          "text": [
            "+--------------------+--------------------+--------------------+--------------------+--------------------+\n",
            "|                text|              titles|            document|           sentences|              tokens|\n",
            "+--------------------+--------------------+--------------------+--------------------+--------------------+\n",
            "| the boy who live...|The Philosophers ...|[[document, 0, 41...|[[document, 1, 13...|[[token, 1, 3, th...|\n",
            "| the boy who live...|The Philosophers ...|[[document, 0, 41...|[[document, 139, ...|[[token, 139, 142...|\n",
            "| the boy who live...|The Philosophers ...|[[document, 0, 41...|[[document, 273, ...|[[token, 273, 274...|\n",
            "| the boy who live...|The Philosophers ...|[[document, 0, 41...|[[document, 346, ...|[[token, 346, 347...|\n",
            "| the boy who live...|The Philosophers ...|[[document, 0, 41...|[[document, 430, ...|[[token, 430, 432...|\n",
            "| the boy who live...|The Philosophers ...|[[document, 0, 41...|[[document, 620, ...|[[token, 620, 622...|\n",
            "| the boy who live...|The Philosophers ...|[[document, 0, 41...|[[document, 714, ...|[[token, 714, 716...|\n",
            "| the boy who live...|The Philosophers ...|[[document, 0, 41...|[[document, 840, ...|[[token, 840, 843...|\n",
            "| the boy who live...|The Philosophers ...|[[document, 0, 41...|[[document, 914, ...|[[token, 914, 916...|\n",
            "| the boy who live...|The Philosophers ...|[[document, 0, 41...|[[document, 1137,...|[[token, 1137, 11...|\n",
            "| the boy who live...|The Philosophers ...|[[document, 0, 41...|[[document, 1236,...|[[token, 1236, 12...|\n",
            "| the boy who live...|The Philosophers ...|[[document, 0, 41...|[[document, 1323,...|[[token, 1323, 13...|\n",
            "| the boy who live...|The Philosophers ...|[[document, 0, 41...|[[document, 1436,...|[[token, 1436, 14...|\n",
            "| the boy who live...|The Philosophers ...|[[document, 0, 41...|[[document, 1651,...|[[token, 1651, 16...|\n",
            "| the boy who live...|The Philosophers ...|[[document, 0, 41...|[[document, 1809,...|[[token, 1809, 18...|\n",
            "| the boy who live...|The Philosophers ...|[[document, 0, 41...|[[document, 1871,...|[[token, 1871, 18...|\n",
            "| the boy who live...|The Philosophers ...|[[document, 0, 41...|[[document, 2080,...|[[token, 2080, 20...|\n",
            "| the boy who live...|The Philosophers ...|[[document, 0, 41...|[[document, 2135,...|[[token, 2135, 21...|\n",
            "| the boy who live...|The Philosophers ...|[[document, 0, 41...|[[document, 2192,...|[[token, 2192, 21...|\n",
            "| the boy who live...|The Philosophers ...|[[document, 0, 41...|[[document, 2297,...|[[token, 2297, 22...|\n",
            "+--------------------+--------------------+--------------------+--------------------+--------------------+\n",
            "only showing top 20 rows\n",
            "\n"
          ]
        }
      ]
    },
    {
      "cell_type": "code",
      "source": [
        "# data can be extracted, such as the first sentence of the first document and its metadata\n",
        "pipeline_model.first()['sentences'][0].asDict()"
      ],
      "metadata": {
        "colab": {
          "base_uri": "https://localhost:8080/"
        },
        "id": "EqDUh_imuZqh",
        "outputId": "474879d2-0174-40be-8040-68fea86ac1bf"
      },
      "execution_count": 12,
      "outputs": [
        {
          "output_type": "execute_result",
          "data": {
            "text/plain": [
              "{'annotatorType': 'document',\n",
              " 'begin': 1,\n",
              " 'embeddings': [],\n",
              " 'end': 137,\n",
              " 'metadata': {'sentence': '0'},\n",
              " 'result': 'the boy who lived mr. and mrs. dursley of number four privet drive were proud to say that they were perfectly normal thank you very much.'}"
            ]
          },
          "metadata": {},
          "execution_count": 12
        }
      ]
    },
    {
      "cell_type": "code",
      "source": [
        "# the schema of the original dataframe has changed\n",
        "# there are now 5 columns, with document, sentences, and tokens being arrays created in the pipeline\n",
        "pipeline_model.printSchema()"
      ],
      "metadata": {
        "colab": {
          "base_uri": "https://localhost:8080/"
        },
        "id": "62pCkFnde_-4",
        "outputId": "5716951d-76f4-49be-85fd-bfbfcf3990ae"
      },
      "execution_count": 13,
      "outputs": [
        {
          "output_type": "stream",
          "name": "stdout",
          "text": [
            "root\n",
            " |-- text: string (nullable = true)\n",
            " |-- titles: string (nullable = true)\n",
            " |-- document: array (nullable = true)\n",
            " |    |-- element: struct (containsNull = true)\n",
            " |    |    |-- annotatorType: string (nullable = true)\n",
            " |    |    |-- begin: integer (nullable = false)\n",
            " |    |    |-- end: integer (nullable = false)\n",
            " |    |    |-- result: string (nullable = true)\n",
            " |    |    |-- metadata: map (nullable = true)\n",
            " |    |    |    |-- key: string\n",
            " |    |    |    |-- value: string (valueContainsNull = true)\n",
            " |    |    |-- embeddings: array (nullable = true)\n",
            " |    |    |    |-- element: float (containsNull = false)\n",
            " |-- sentences: array (nullable = false)\n",
            " |    |-- element: struct (containsNull = true)\n",
            " |    |    |-- annotatorType: string (nullable = true)\n",
            " |    |    |-- begin: integer (nullable = false)\n",
            " |    |    |-- end: integer (nullable = false)\n",
            " |    |    |-- result: string (nullable = true)\n",
            " |    |    |-- metadata: map (nullable = true)\n",
            " |    |    |    |-- key: string\n",
            " |    |    |    |-- value: string (valueContainsNull = true)\n",
            " |    |    |-- embeddings: array (nullable = true)\n",
            " |    |    |    |-- element: float (containsNull = false)\n",
            " |-- tokens: array (nullable = true)\n",
            " |    |-- element: struct (containsNull = true)\n",
            " |    |    |-- annotatorType: string (nullable = true)\n",
            " |    |    |-- begin: integer (nullable = false)\n",
            " |    |    |-- end: integer (nullable = false)\n",
            " |    |    |-- result: string (nullable = true)\n",
            " |    |    |-- metadata: map (nullable = true)\n",
            " |    |    |    |-- key: string\n",
            " |    |    |    |-- value: string (valueContainsNull = true)\n",
            " |    |    |-- embeddings: array (nullable = true)\n",
            " |    |    |    |-- element: float (containsNull = false)\n",
            "\n"
          ]
        }
      ]
    },
    {
      "cell_type": "code",
      "source": [
        "pipeline_model.count()"
      ],
      "metadata": {
        "colab": {
          "base_uri": "https://localhost:8080/"
        },
        "id": "MYrXNM2R7siF",
        "outputId": "44177c10-a5d4-40dc-a775-e9019cd5b03f"
      },
      "execution_count": 14,
      "outputs": [
        {
          "output_type": "execute_result",
          "data": {
            "text/plain": [
              "84981"
            ]
          },
          "metadata": {},
          "execution_count": 14
        }
      ]
    },
    {
      "cell_type": "markdown",
      "source": [
        "This is where I would use a pretrained model like `DistilBertEmbeddings()`, `NerDLModel.pretrained()`, to do some Named Entity recognition, or to do lemmatization. Since I couldn't get compute resources to cooperate, I will instead use Spark and Spark ML to do some further analysis. \n",
        "\n",
        "___"
      ],
      "metadata": {
        "id": "oVjxiNxqwc0y"
      }
    },
    {
      "cell_type": "code",
      "source": [
        "# create a dataframe containing the title, sentence, and words\n",
        "df = pipeline_model.withColumn('sentence', pipeline_model.sentences['result'])\n",
        "df = df.withColumn('words', df.tokens['result'])\n",
        "\n",
        "df = df.select(df['titles'], df['sentence'], df['words'])\n",
        "df.show()"
      ],
      "metadata": {
        "colab": {
          "base_uri": "https://localhost:8080/"
        },
        "id": "ZFCTJqAleZ8e",
        "outputId": "3eed85b0-b883-4ce9-b85b-1be420730761"
      },
      "execution_count": 15,
      "outputs": [
        {
          "output_type": "stream",
          "name": "stdout",
          "text": [
            "+--------------------+--------------------+--------------------+\n",
            "|              titles|            sentence|               words|\n",
            "+--------------------+--------------------+--------------------+\n",
            "|The Philosophers ...|[the boy who live...|[the, boy, who, l...|\n",
            "|The Philosophers ...|[they were the la...|[they, were, the,...|\n",
            "|The Philosophers ...|[mr. dursley was ...|[mr, ., dursley, ...|\n",
            "|The Philosophers ...|[he was big beefy...|[he, was, big, be...|\n",
            "|The Philosophers ...|[mrs. dursley was...|[mrs, ., dursley,...|\n",
            "|The Philosophers ...|[the dursley had ...|[the, dursley, ha...|\n",
            "|The Philosophers ...|[the dursleys had...|[the, dursleys, h...|\n",
            "|The Philosophers ...|[they didn think ...|[they, didn, thin...|\n",
            "|The Philosophers ...|[mrs. potter was ...|[mrs, ., potter, ...|\n",
            "|The Philosophers ...|[the dursleys shu...|[the, dursleys, s...|\n",
            "|The Philosophers ...|[the dursleys kne...|[the, dursleys, k...|\n",
            "|The Philosophers ...|[this boy was ano...|[this, boy, was, ...|\n",
            "|The Philosophers ...|[when mr. and mrs...|[when, mr, ., and...|\n",
            "|The Philosophers ...|[mr. dursley humm...|[mr, ., dursley, ...|\n",
            "|The Philosophers ...|[none of them not...|[none, of, them, ...|\n",
            "|The Philosophers ...|[at half past eig...|[at, half, past, ...|\n",
            "|The Philosophers ...|[little tyke chor...|[little, tyke, ch...|\n",
            "|The Philosophers ...|[he got into his ...|[he, got, into, h...|\n",
            "|The Philosophers ...|[it was on the co...|[it, was, on, the...|\n",
            "|The Philosophers ...|[for second mr. d...|[for, second, mr,...|\n",
            "+--------------------+--------------------+--------------------+\n",
            "only showing top 20 rows\n",
            "\n"
          ]
        }
      ]
    },
    {
      "cell_type": "code",
      "source": [
        "# count number of sentences per book\n",
        "sent_count = df.withColumn('book', col('titles'))\\\n",
        "    .groupBy('book')\\\n",
        "    .count()\\\n",
        "    .sort('count')\n",
        "\n",
        "sent_count.show(truncate=False)"
      ],
      "metadata": {
        "colab": {
          "base_uri": "https://localhost:8080/"
        },
        "id": "MpKgvc97eaP-",
        "outputId": "d5fecdac-4f2a-4856-8ec0-5ea2e1194f68"
      },
      "execution_count": 16,
      "outputs": [
        {
          "output_type": "stream",
          "name": "stdout",
          "text": [
            "+------------------------+-----+\n",
            "|book                    |count|\n",
            "+------------------------+-----+\n",
            "|The Philosophers Stone  |6022 |\n",
            "|The Chamber of Secrets  |6610 |\n",
            "|The Prisoner of Azkaban |9663 |\n",
            "|The Half-Blood Prince   |13039|\n",
            "|The Deathly Hallows     |13794|\n",
            "|The Goblet of Fire      |16532|\n",
            "|The Order of the Phoenix|19321|\n",
            "+------------------------+-----+\n",
            "\n"
          ]
        }
      ]
    },
    {
      "cell_type": "code",
      "source": [
        "sent_count = sent_count.toPandas()\n",
        "sent_count.plot.bar(x='book', y='count')"
      ],
      "metadata": {
        "colab": {
          "base_uri": "https://localhost:8080/",
          "height": 414
        },
        "id": "Fd_ITsBmn4DX",
        "outputId": "146bf4ce-f2be-4c29-f25c-e864216077a2"
      },
      "execution_count": 18,
      "outputs": [
        {
          "output_type": "execute_result",
          "data": {
            "text/plain": [
              "<matplotlib.axes._subplots.AxesSubplot at 0x7ff691685f50>"
            ]
          },
          "metadata": {},
          "execution_count": 18
        },
        {
          "output_type": "display_data",
          "data": {
            "text/plain": [
              "<Figure size 432x288 with 1 Axes>"
            ],
            "image/png": "[encoded data removed]"
          },
          "metadata": {
            "needs_background": "light"
          }
        }
      ]
    },
    {
      "cell_type": "markdown",
      "source": [
        "The Order of the Phoenix has the most sentences at 19320, The Philosopher's Stone has the fewest at 6023. This is a little innacurate because I don't know what extra stuff might be in the .txt files I used as my data. \n",
        "\n",
        "__\n",
        "\n",
        "Next I am going to remove stop words and get some more counts, as well as do some character mapping. Stop word list from: https://www.ranks.nl/stopwords "
      ],
      "metadata": {
        "id": "Cw8koT7A05lx"
      }
    },
    {
      "cell_type": "code",
      "source": [
        "stop_words = ['a', 'able', 'about', 'above', 'abst', 'accordance', 'according', 'accordingly', 'across', \n",
        "              'act', 'actually', 'added', 'adj', 'affected', 'affecting', 'affects', 'after', 'afterwards', \n",
        "              'again', 'against', 'ah', 'all', 'almost', 'alone', 'along', 'already', 'also', 'although', \n",
        "              'always', 'am', 'among', 'amongst', 'an', 'and', 'announce', 'another', 'any', 'anybody', \n",
        "              'anyhow', 'anymore', 'anyone', 'anything', 'anyway', 'anyways', 'anywhere', 'apparently', \n",
        "              'approximately', 'are', 'aren', 'arent', 'arise', 'around', 'as', 'aside', 'ask', 'asking', \n",
        "              'at', 'auth', 'available', 'away', 'awfully', 'b', 'back', 'be', 'became', 'because', 'become', \n",
        "              'becomes', 'becoming', 'been', 'before', 'beforehand', 'begin', 'beginning', 'beginnings', \n",
        "              'begins', 'behind', 'being', 'believe', 'below', 'beside', 'besides', 'between', 'beyond', \n",
        "              'biol', 'both', 'brief', 'briefly', 'but', 'by', 'c', 'ca', 'came', 'can', 'cannot', \"can't\", \n",
        "              'cause', 'causes', 'certain', 'certainly', 'co', 'com', 'come', 'comes', 'contain', 'containing', \n",
        "              'contains', 'could', 'couldnt', 'd', 'date', 'did', \"didn't\", 'different', 'do', 'does', \"doesn't\", \n",
        "              'doing', 'done', \"don't\", 'down', 'downwards', 'due', 'during', 'e', 'each', 'ed', 'edu', 'effect', \n",
        "              'eg', 'eight', 'eighty', 'either', 'else', 'elsewhere', 'end', 'ending', 'enough', 'especially', \n",
        "              'et', 'et-al', 'etc', 'even', 'ever', 'every', 'everybody', 'everyone', 'everything', 'everywhere', \n",
        "              'ex', 'except', 'f', 'far', 'few', 'ff', 'fifth', 'first', 'five', 'fix', 'followed', 'following', \n",
        "              'follows', 'for', 'former', 'formerly', 'forth', 'found', 'four', 'from', 'further', 'furthermore', \n",
        "              'g', 'gave', 'get', 'gets', 'getting', 'give', 'given', 'gives', 'giving', 'go', 'goes', 'gone', \n",
        "              'got', 'gotten', 'h', 'had', 'happens', 'hardly', 'has', \"hasn't\", 'have', \"haven't\", 'having', \n",
        "              'he', 'hed', 'hence', 'her', 'here', 'hereafter', 'hereby', 'herein', 'heres', 'hereupon', 'hers', \n",
        "              'herself', 'hes', 'hi', 'hid', 'him', 'himself', 'his', 'hither', 'home', 'how', 'howbeit', 'however', \n",
        "              'hundred', 'i', 'id', 'ie', 'if', \"i'll\", 'im', 'immediate', 'immediately', 'importance', 'important', \n",
        "              'in', 'inc', 'indeed', 'index', 'information', 'instead', 'into', 'invention', 'inward', 'is', \"isn't\", \n",
        "              'it', 'itd', \"it'll\", 'its', 'itself', \"i've\", 'j', 'just', 'k', 'keep', 'keeps', 'kept', 'kg', 'km', \n",
        "              'know', 'known', 'knows', 'l', 'largely', 'last', 'lately', 'later', 'latter', 'latterly', 'least', \n",
        "              'less', 'lest', 'let', 'lets', 'like', 'liked', 'likely', 'line', 'little', \"'ll\", 'look', 'looking', \n",
        "              'looks', 'ltd', 'm', 'made', 'mainly', 'make', 'makes', 'many', 'may', 'maybe', 'me', 'mean', 'means', \n",
        "              'meantime', 'meanwhile', 'merely', 'mg', 'might', 'million', 'miss', 'ml', 'more', 'moreover', 'most', \n",
        "              'mostly', 'mr', 'mrs', 'much', 'mug', 'must', 'my', 'myself', 'n', 'na', 'name', 'namely', 'nay', 'nd', \n",
        "              'near', 'nearly', 'necessarily', 'necessary', 'need', 'needs', 'neither', 'never', 'nevertheless', \n",
        "              'new', 'next', 'nine', 'ninety', 'no', 'nobody', 'non', 'none', 'nonetheless', 'noone', 'nor', \n",
        "              'normally', 'nos', 'not', 'noted', 'nothing', 'now', 'nowhere', 'o', 'obtain', 'obtained', 'obviously', \n",
        "              'of', 'off', 'often', 'oh', 'ok', 'okay', 'old', 'omitted', 'on', 'once', 'one', 'ones', 'only', 'onto', \n",
        "              'or', 'ord', 'other', 'others', 'otherwise', 'ought', 'our', 'ours', 'ourselves', 'out', 'outside', \n",
        "              'over', 'overall', 'owing', 'own', 'p', 'page', 'pages', 'part', 'particular', 'particularly', 'past', \n",
        "              'per', 'perhaps', 'placed', 'please', 'plus', 'poorly', 'possible', 'possibly', 'potentially', 'pp', \n",
        "              'predominantly', 'present', 'previously', 'primarily', 'probably', 'promptly', 'proud', 'provides', \n",
        "              'put', 'q', 'que', 'quickly', 'quite', 'qv', 'r', 'ran', 'rather', 'rd', 're', 'readily', 'really', \n",
        "              'recent', 'recently', 'ref', 'refs', 'regarding', 'regardless', 'regards', 'related', 'relatively', \n",
        "              'research', 'respectively', 'resulted', 'resulting', 'results', 'right', 'run', 's', 'said', 'same', \n",
        "              'saw', 'say', 'saying', 'says', 'sec', 'section', 'see', 'seeing', 'seem', 'seemed', 'seeming', \n",
        "              'seems', 'seen', 'self', 'selves', 'sent', 'seven', 'several', 'shall', 'she', 'shed', \"she'll\", \n",
        "              'shes', 'should', \"shouldn't\", 'show', 'showed', 'shown', 'showns', 'shows', 'significant', \n",
        "              'significantly', 'similar', 'similarly', 'since', 'six', 'slightly', 'so', 'some', 'somebody', \n",
        "              'somehow', 'someone', 'somethan', 'something', 'sometime', 'sometimes', 'somewhat', 'somewhere', \n",
        "              'soon', 'sorry', 'specifically', 'specified', 'specify', 'specifying', 'still', 'stop', 'strongly', \n",
        "              'sub', 'substantially', 'successfully', 'such', 'sufficiently', 'suggest', 'sup', 'sure', 't', \n",
        "              'take', 'taken', 'taking', 'tell', 'tends', 'th', 'than', 'thank', 'thanks', 'thanx', 'that', \n",
        "              \"that'll\", 'thats', \"that've\", 'the', 'their', 'theirs', 'them', 'themselves', 'then', 'thence', \n",
        "              'there', 'thereafter', 'thereby', 'thered', 'therefore', 'therein', \"there'll\", 'thereof', \n",
        "              'therere', 'theres', 'thereto', 'thereupon', \"there've\", 'these', 'they', 'theyd', \"they'll\", \n",
        "              'theyre', \"they've\", 'think', 'this', 'those', 'thou', 'though', 'thoughh', 'thousand', 'throug', \n",
        "              'through', 'throughout', 'thru', 'thus', 'til', 'tip', 'to', 'together', 'too', 'took', 'toward', \n",
        "              'towards', 'tried', 'tries', 'truly', 'try', 'trying', 'ts', 'twice', 'two', 'u', 'un', 'under', \n",
        "              'unfortunately', 'unless', 'unlike', 'unlikely', 'until', 'unto', 'up', 'upon', 'ups', 'us', 'use', \n",
        "              'used', 'useful', 'usefully', 'usefulness', 'uses', 'using', 'usually', 'v', 'value', 'various', \n",
        "              \"'ve\", 'very', 'via', 'viz', 'vol', 'vols', 'vs', 'w', 'want', 'wants', 'was', 'wasnt', 'way', \n",
        "              'we', 'wed', 'welcome', \"we'll\", 'went', 'were', 'werent', \"we've\", 'what', 'whatever', \"what'll\", \n",
        "              'whats', 'when', 'whence', 'whenever', 'where', 'whereafter', 'whereas', 'whereby', 'wherein', \n",
        "              'wheres', 'whereupon', 'wherever', 'whether', 'which', 'while', 'whim', 'whither', 'who', 'whod', \n",
        "              'whoever', 'whole', \"who'll\", 'whom', 'whomever', 'whos', 'whose', 'why', 'widely', 'willing', \n",
        "              'wish', 'with', 'within', 'without', 'wont', 'words', 'world', 'would', 'wouldnt', 'www', 'x', \n",
        "              'y', 'yes', 'yet', 'you', 'youd', \"you'll\", 'your', 'youre', 'yours', 'yourself', 'yourselves', \n",
        "              \"you've\", 'z', 'zero', 'rowling', 've', 'll', '', ' ']"
      ],
      "metadata": {
        "id": "7nkTrIfp3BrM"
      },
      "execution_count": 19,
      "outputs": []
    },
    {
      "cell_type": "code",
      "source": [
        "remover = StopWordsRemover(inputCol='words', outputCol='no_stop', stopWords=stop_words)\n",
        "\n",
        "no_stop = remover.transform(df)\n",
        "\n",
        "no_stop.show()"
      ],
      "metadata": {
        "colab": {
          "base_uri": "https://localhost:8080/"
        },
        "id": "8PhFeIYCeZuV",
        "outputId": "405b9db0-a2cf-4474-9e68-aab225793bc8"
      },
      "execution_count": 20,
      "outputs": [
        {
          "output_type": "stream",
          "name": "stdout",
          "text": [
            "+--------------------+--------------------+--------------------+--------------------+\n",
            "|              titles|            sentence|               words|             no_stop|\n",
            "+--------------------+--------------------+--------------------+--------------------+\n",
            "|The Philosophers ...|[the boy who live...|[the, boy, who, l...|[boy, lived, ., ....|\n",
            "|The Philosophers ...|[they were the la...|[they, were, the,...|[people, expect, ...|\n",
            "|The Philosophers ...|[mr. dursley was ...|[mr, ., dursley, ...|[., dursley, dire...|\n",
            "|The Philosophers ...|[he was big beefy...|[he, was, big, be...|[big, beefy, man,...|\n",
            "|The Philosophers ...|[mrs. dursley was...|[mrs, ., dursley,...|[., dursley, thin...|\n",
            "|The Philosophers ...|[the dursley had ...|[the, dursley, ha...|[dursley, small, ...|\n",
            "|The Philosophers ...|[the dursleys had...|[the, dursleys, h...|[dursleys, wanted...|\n",
            "|The Philosophers ...|[they didn think ...|[they, didn, thin...|[didn, bear, pott...|\n",
            "|The Philosophers ...|[mrs. potter was ...|[mrs, ., potter, ...|[., potter, ., du...|\n",
            "|The Philosophers ...|[the dursleys shu...|[the, dursleys, s...|[dursleys, shudde...|\n",
            "|The Philosophers ...|[the dursleys kne...|[the, dursleys, k...|[dursleys, knew, ...|\n",
            "|The Philosophers ...|[this boy was ano...|[this, boy, was, ...|[boy, good, reaso...|\n",
            "|The Philosophers ...|[when mr. and mrs...|[when, mr, ., and...|[., ., dursley, w...|\n",
            "|The Philosophers ...|[mr. dursley humm...|[mr, ., dursley, ...|[., dursley, humm...|\n",
            "|The Philosophers ...|[none of them not...|[none, of, them, ...|[noticed, large, ...|\n",
            "|The Philosophers ...|[at half past eig...|[at, half, past, ...|[half, ., dursley...|\n",
            "|The Philosophers ...|[little tyke chor...|[little, tyke, ch...|[tyke, chortled, ...|\n",
            "|The Philosophers ...|[he got into his ...|[he, got, into, h...|[car, backed, num...|\n",
            "|The Philosophers ...|[it was on the co...|[it, was, on, the...|[corner, street, ...|\n",
            "|The Philosophers ...|[for second mr. d...|[for, second, mr,...|[second, ., dursl...|\n",
            "+--------------------+--------------------+--------------------+--------------------+\n",
            "only showing top 20 rows\n",
            "\n"
          ]
        }
      ]
    },
    {
      "cell_type": "markdown",
      "source": [
        "I'm sure there's a better way, but since I'm using the output of sparknlp I can't just change one and have the rest be fine. I want to remove the rest of the punctuation and single letters from the dataset, so I am going to join the 'no_stop' column, remove punctuation and single letters, and then split again. "
      ],
      "metadata": {
        "id": "YyUGC0pH6tyE"
      }
    },
    {
      "cell_type": "code",
      "source": [
        "# make each row a single string instead of list\n",
        "no_stop = no_stop.withColumn(\"clean\", concat_ws(\",\", \"no_stop\"))\n",
        "\n",
        "# remove special characters\n",
        "no_stop = no_stop.withColumn('clean', regexp_replace(no_stop['clean'], \"[^0-9a-zA-Z]+\", ' '))\n",
        "\n",
        "# remove single letters\n",
        "no_stop = no_stop.withColumn('clean', regexp_replace(no_stop['clean'], \"\\s+[a-zA-Z]\\s+\", ' '))\n",
        "\n",
        "# delete extra spaces\n",
        "no_stop = no_stop.withColumn('clean', regexp_replace(no_stop['clean'],\"\\s+\", ' ' ))\n",
        "\n",
        "# split sentences back to words on space\n",
        "no_stop = no_stop.withColumn('clean', split(col(\"clean\"),\" \"))\n",
        "\n",
        "no_stop.show()"
      ],
      "metadata": {
        "colab": {
          "base_uri": "https://localhost:8080/"
        },
        "id": "by1zxfvP3txh",
        "outputId": "a6243254-7140-4920-a9e8-c50a128a7a69"
      },
      "execution_count": 21,
      "outputs": [
        {
          "output_type": "stream",
          "name": "stdout",
          "text": [
            "+--------------------+--------------------+--------------------+--------------------+--------------------+\n",
            "|              titles|            sentence|               words|             no_stop|               clean|\n",
            "+--------------------+--------------------+--------------------+--------------------+--------------------+\n",
            "|The Philosophers ...|[the boy who live...|[the, boy, who, l...|[boy, lived, ., ....|[boy, lived, durs...|\n",
            "|The Philosophers ...|[they were the la...|[they, were, the,...|[people, expect, ...|[people, expect, ...|\n",
            "|The Philosophers ...|[mr. dursley was ...|[mr, ., dursley, ...|[., dursley, dire...|[, dursley, direc...|\n",
            "|The Philosophers ...|[he was big beefy...|[he, was, big, be...|[big, beefy, man,...|[big, beefy, man,...|\n",
            "|The Philosophers ...|[mrs. dursley was...|[mrs, ., dursley,...|[., dursley, thin...|[, dursley, thin,...|\n",
            "|The Philosophers ...|[the dursley had ...|[the, dursley, ha...|[dursley, small, ...|[dursley, small, ...|\n",
            "|The Philosophers ...|[the dursleys had...|[the, dursleys, h...|[dursleys, wanted...|[dursleys, wanted...|\n",
            "|The Philosophers ...|[they didn think ...|[they, didn, thin...|[didn, bear, pott...|[didn, bear, pott...|\n",
            "|The Philosophers ...|[mrs. potter was ...|[mrs, ., potter, ...|[., potter, ., du...|[, potter, dursle...|\n",
            "|The Philosophers ...|[the dursleys shu...|[the, dursleys, s...|[dursleys, shudde...|[dursleys, shudde...|\n",
            "|The Philosophers ...|[the dursleys kne...|[the, dursleys, k...|[dursleys, knew, ...|[dursleys, knew, ...|\n",
            "|The Philosophers ...|[this boy was ano...|[this, boy, was, ...|[boy, good, reaso...|[boy, good, reaso...|\n",
            "|The Philosophers ...|[when mr. and mrs...|[when, mr, ., and...|[., ., dursley, w...|[, dursley, woke,...|\n",
            "|The Philosophers ...|[mr. dursley humm...|[mr, ., dursley, ...|[., dursley, humm...|[, dursley, humme...|\n",
            "|The Philosophers ...|[none of them not...|[none, of, them, ...|[noticed, large, ...|[noticed, large, ...|\n",
            "|The Philosophers ...|[at half past eig...|[at, half, past, ...|[half, ., dursley...|[half, dursley, p...|\n",
            "|The Philosophers ...|[little tyke chor...|[little, tyke, ch...|[tyke, chortled, ...|[tyke, chortled, ...|\n",
            "|The Philosophers ...|[he got into his ...|[he, got, into, h...|[car, backed, num...|[car, backed, num...|\n",
            "|The Philosophers ...|[it was on the co...|[it, was, on, the...|[corner, street, ...|[corner, street, ...|\n",
            "|The Philosophers ...|[for second mr. d...|[for, second, mr,...|[second, ., dursl...|[second, dursley,...|\n",
            "+--------------------+--------------------+--------------------+--------------------+--------------------+\n",
            "only showing top 20 rows\n",
            "\n"
          ]
        }
      ]
    },
    {
      "cell_type": "code",
      "source": [
        "print(no_stop.first()['clean'])"
      ],
      "metadata": {
        "colab": {
          "base_uri": "https://localhost:8080/"
        },
        "id": "eKfqwziN9kDG",
        "outputId": "35d6a999-ae20-4d39-f147-ac72e8428db5"
      },
      "execution_count": 22,
      "outputs": [
        {
          "output_type": "stream",
          "name": "stdout",
          "text": [
            "['boy', 'lived', 'dursley', 'number', 'privet', 'drive', 'perfectly', 'normal', '']\n"
          ]
        }
      ]
    },
    {
      "cell_type": "markdown",
      "source": [
        "From here I would like to get some more counts about various aspects of each book. To do this, I need to group by book. I am going to create one for total word count including stop words, and one without stop words to compare."
      ],
      "metadata": {
        "id": "4mEf6sGd3amQ"
      }
    },
    {
      "cell_type": "code",
      "source": [
        "books = no_stop.withColumn('words', explode('clean'))\n",
        "books = books.groupBy('titles').agg(collect_list('words').alias('words'))\n",
        "books.show()"
      ],
      "metadata": {
        "colab": {
          "base_uri": "https://localhost:8080/"
        },
        "id": "SW7kt4N0H3ha",
        "outputId": "679cc9b9-39ed-471e-e828-47eecc2778ae"
      },
      "execution_count": 23,
      "outputs": [
        {
          "output_type": "stream",
          "name": "stdout",
          "text": [
            "+--------------------+--------------------+\n",
            "|              titles|               words|\n",
            "+--------------------+--------------------+\n",
            "|  The Goblet of Fire|[riddle, house, v...|\n",
            "|The Half-Blood Pr...|[minister, nearin...|\n",
            "|The Order of the ...|[harry, potter, d...|\n",
            "|The Philosophers ...|[boy, lived, durs...|\n",
            "|The Prisoner of A...|[owl, post, harry...|\n",
            "|The Chamber of Se...|[, , , , harry, p...|\n",
            "| The Deathly Hallows|[dark, lord, asce...|\n",
            "+--------------------+--------------------+\n",
            "\n"
          ]
        }
      ]
    },
    {
      "cell_type": "code",
      "source": [
        "books_s = no_stop.withColumn('words', explode('words'))\n",
        "books_s = books_s.groupBy('titles').agg(collect_list('words').alias('words'))\n",
        "books_s.show()"
      ],
      "metadata": {
        "colab": {
          "base_uri": "https://localhost:8080/"
        },
        "id": "pCs7aMsXKT2a",
        "outputId": "67faf92a-cf5e-48c6-a7dc-b00ae0068c7a"
      },
      "execution_count": 24,
      "outputs": [
        {
          "output_type": "stream",
          "name": "stdout",
          "text": [
            "+--------------------+--------------------+\n",
            "|              titles|               words|\n",
            "+--------------------+--------------------+\n",
            "|  The Goblet of Fire|[the, riddle, hou...|\n",
            "|The Half-Blood Pr...|[the, other, mini...|\n",
            "|The Order of the ...|[harry, potter, d...|\n",
            "|The Philosophers ...|[the, boy, who, l...|\n",
            "|The Prisoner of A...|[owl, post, harry...|\n",
            "|The Chamber of Se...|[., ., l, harry, ...|\n",
            "| The Deathly Hallows|[i, the, dark, lo...|\n",
            "+--------------------+--------------------+\n",
            "\n"
          ]
        }
      ]
    },
    {
      "cell_type": "code",
      "source": [
        "books = books.withColumn('word_count', size('words'))\n",
        "books.show()"
      ],
      "metadata": {
        "colab": {
          "base_uri": "https://localhost:8080/"
        },
        "id": "mwbEbJ4QK6EB",
        "outputId": "b5e5afd2-4f43-46b1-9db6-c827481b6b55"
      },
      "execution_count": 25,
      "outputs": [
        {
          "output_type": "stream",
          "name": "stdout",
          "text": [
            "+--------------------+--------------------+----------+\n",
            "|              titles|               words|word_count|\n",
            "+--------------------+--------------------+----------+\n",
            "|  The Goblet of Fire|[riddle, house, v...|    102409|\n",
            "|The Half-Blood Pr...|[minister, nearin...|     84570|\n",
            "|The Order of the ...|[harry, potter, d...|    129210|\n",
            "|The Philosophers ...|[boy, lived, durs...|     38207|\n",
            "|The Prisoner of A...|[owl, post, harry...|     57805|\n",
            "|The Chamber of Se...|[, , , , harry, p...|     44230|\n",
            "| The Deathly Hallows|[dark, lord, asce...|     96964|\n",
            "+--------------------+--------------------+----------+\n",
            "\n"
          ]
        }
      ]
    },
    {
      "cell_type": "code",
      "source": [
        "word_count = books.toPandas()\n",
        "word_count.plot.bar(x='titles', y='word_count')"
      ],
      "metadata": {
        "colab": {
          "base_uri": "https://localhost:8080/",
          "height": 412
        },
        "id": "sUl18vWxq2du",
        "outputId": "827e3387-2702-445f-9b27-e80718511ec9"
      },
      "execution_count": 26,
      "outputs": [
        {
          "output_type": "execute_result",
          "data": {
            "text/plain": [
              "<matplotlib.axes._subplots.AxesSubplot at 0x7ff68f4eff90>"
            ]
          },
          "metadata": {},
          "execution_count": 26
        },
        {
          "output_type": "display_data",
          "data": {
            "text/plain": [
              "<Figure size 432x288 with 1 Axes>"
            ],
            "image/png": "[encoded data removed]"
          },
          "metadata": {
            "needs_background": "light"
          }
        }
      ]
    },
    {
      "cell_type": "code",
      "source": [
        "books_s = books_s.withColumn('word_count', size('words'))\n",
        "books_s.show()"
      ],
      "metadata": {
        "colab": {
          "base_uri": "https://localhost:8080/"
        },
        "id": "UZI0Of5bK6I0",
        "outputId": "5596af99-fbff-49fe-b486-d8f451f2626f"
      },
      "execution_count": 27,
      "outputs": [
        {
          "output_type": "stream",
          "name": "stdout",
          "text": [
            "+--------------------+--------------------+----------+\n",
            "|              titles|               words|word_count|\n",
            "+--------------------+--------------------+----------+\n",
            "|  The Goblet of Fire|[the, riddle, hou...|    208689|\n",
            "|The Half-Blood Pr...|[the, other, mini...|    178354|\n",
            "|The Order of the ...|[harry, potter, d...|    271834|\n",
            "|The Philosophers ...|[the, boy, who, l...|     81808|\n",
            "|The Prisoner of A...|[owl, post, harry...|    114701|\n",
            "|The Chamber of Se...|[., ., l, harry, ...|     90242|\n",
            "| The Deathly Hallows|[i, the, dark, lo...|    208408|\n",
            "+--------------------+--------------------+----------+\n",
            "\n"
          ]
        }
      ]
    },
    {
      "cell_type": "markdown",
      "source": [
        "Before removing stop words and single letters (even though there still appear to be some in there), there are almost 150k more words in The Order of the Phoenix than without. There are about 43k more words in the Philosoper's Stone before removing stop words. These counts are of unique words. "
      ],
      "metadata": {
        "id": "qpblPDxtNXRP"
      }
    },
    {
      "cell_type": "code",
      "source": [
        "unique_words = books.withColumn('word', explode(col('words')))\\\n",
        "    .groupBy('titles', 'word')\\\n",
        "    .count()\\\n",
        "    .sort('count', ascending=False)"
      ],
      "metadata": {
        "id": "nNSoAAnDOguF"
      },
      "execution_count": 28,
      "outputs": []
    },
    {
      "cell_type": "code",
      "source": [
        "unique_words = unique_words.filter(unique_words.word != '')\n",
        "unique_words.show(50)"
      ],
      "metadata": {
        "colab": {
          "base_uri": "https://localhost:8080/"
        },
        "id": "yKUnwg0ROKfD",
        "outputId": "a978a287-b201-41c9-95fd-ba35c39252da"
      },
      "execution_count": 31,
      "outputs": [
        {
          "output_type": "stream",
          "name": "stdout",
          "text": [
            "+--------------------+----------+-----+\n",
            "|              titles|      word|count|\n",
            "+--------------------+----------+-----+\n",
            "|The Order of the ...|     harry| 4092|\n",
            "|  The Goblet of Fire|     harry| 3598|\n",
            "| The Deathly Hallows|     harry| 3193|\n",
            "|The Half-Blood Pr...|     harry| 2789|\n",
            "|The Prisoner of A...|     harry| 2049|\n",
            "|The Chamber of Se...|     harry| 1658|\n",
            "|The Philosophers ...|     harry| 1325|\n",
            "|The Order of the ...|       ron| 1307|\n",
            "|The Order of the ...|  hermione| 1307|\n",
            "| The Deathly Hallows|  hermione| 1224|\n",
            "| The Deathly Hallows|       ron| 1176|\n",
            "|  The Goblet of Fire|       ron| 1043|\n",
            "|The Half-Blood Pr...|dumbledore| 1034|\n",
            "|The Half-Blood Pr...|       ron|  877|\n",
            "|  The Goblet of Fire|  hermione|  871|\n",
            "|The Prisoner of A...|       ron|  791|\n",
            "|The Chamber of Se...|       ron|  706|\n",
            "|The Half-Blood Pr...|  hermione|  694|\n",
            "|The Prisoner of A...|  hermione|  672|\n",
            "|  The Goblet of Fire|    potter|  664|\n",
            "|The Order of the ...|      well|  664|\n",
            "|The Order of the ...|dumbledore|  661|\n",
            "|The Order of the ...|    sirius|  646|\n",
            "|  The Goblet of Fire|dumbledore|  599|\n",
            "| The Deathly Hallows|      wand|  596|\n",
            "| The Deathly Hallows|dumbledore|  589|\n",
            "|The Order of the ...| professor|  580|\n",
            "|The Order of the ...|  umbridge|  572|\n",
            "|  The Goblet of Fire|      fire|  547|\n",
            "|The Order of the ...|    looked|  540|\n",
            "|  The Goblet of Fire|    goblet|  494|\n",
            "|  The Goblet of Fire|    looked|  489|\n",
            "|The Order of the ...|   weasley|  479|\n",
            "|The Order of the ...|       don|  476|\n",
            "|The Order of the ...|    hagrid|  458|\n",
            "| The Deathly Hallows| voldemort|  446|\n",
            "|The Order of the ...|     voice|  437|\n",
            "| The Deathly Hallows|    looked|  432|\n",
            "|The Philosophers ...|       ron|  429|\n",
            "|  The Goblet of Fire|         k|  427|\n",
            "|The Prisoner of A...| professor|  416|\n",
            "|The Order of the ...|      time|  412|\n",
            "|The Prisoner of A...|     lupin|  408|\n",
            "|The Half-Blood Pr...|      well|  401|\n",
            "|The Half-Blood Pr...|  slughorn|  400|\n",
            "|The Order of the ...|      face|  396|\n",
            "|  The Goblet of Fire|   weasley|  394|\n",
            "|The Prisoner of A...|     black|  390|\n",
            "|The Order of the ...|     going|  386|\n",
            "|The Order of the ...|      door|  384|\n",
            "+--------------------+----------+-----+\n",
            "only showing top 50 rows\n",
            "\n"
          ]
        }
      ]
    },
    {
      "cell_type": "markdown",
      "source": [
        "These are the most common words in the entire series grouped by book, then word, and then sorted on count. There are still some empty strings in there even after all the processing, so I filtered those out. Overall, some of the most common words are harry, ron, hermione, dumbledore, professor, and hagrid. I could go back to the stop words removal and add some words to the list to remove them (ie said, page, k, rowling, like, s, just, did, ve, got, etc), but for now they can stay. "
      ],
      "metadata": {
        "id": "erjfU6A2PWjj"
      }
    },
    {
      "cell_type": "code",
      "source": [
        "characters = unique_words.filter((unique_words.word == 'harry') | (unique_words.word == 'ron') | (unique_words.word == 'hermione') | (unique_words.word == 'dumbledore') | (unique_words.word == 'voldemort'))\\\n",
        "    .sort('titles', 'count')\n",
        "characters.show(35)"
      ],
      "metadata": {
        "colab": {
          "base_uri": "https://localhost:8080/"
        },
        "id": "kqJi994DYVyn",
        "outputId": "c0e449dd-7459-4e4d-cca9-95b40276b7a8"
      },
      "execution_count": 40,
      "outputs": [
        {
          "output_type": "stream",
          "name": "stdout",
          "text": [
            "+--------------------+----------+-----+\n",
            "|              titles|      word|count|\n",
            "+--------------------+----------+-----+\n",
            "|The Chamber of Se...| voldemort|   25|\n",
            "|The Chamber of Se...|dumbledore|  159|\n",
            "|The Chamber of Se...|  hermione|  320|\n",
            "|The Chamber of Se...|       ron|  706|\n",
            "|The Chamber of Se...|     harry| 1658|\n",
            "| The Deathly Hallows| voldemort|  446|\n",
            "| The Deathly Hallows|dumbledore|  589|\n",
            "| The Deathly Hallows|       ron| 1176|\n",
            "| The Deathly Hallows|  hermione| 1224|\n",
            "| The Deathly Hallows|     harry| 3193|\n",
            "|  The Goblet of Fire| voldemort|  237|\n",
            "|  The Goblet of Fire|dumbledore|  599|\n",
            "|  The Goblet of Fire|  hermione|  871|\n",
            "|  The Goblet of Fire|       ron| 1043|\n",
            "|  The Goblet of Fire|     harry| 3598|\n",
            "|The Half-Blood Pr...| voldemort|  244|\n",
            "|The Half-Blood Pr...|  hermione|  694|\n",
            "|The Half-Blood Pr...|       ron|  877|\n",
            "|The Half-Blood Pr...|dumbledore| 1034|\n",
            "|The Half-Blood Pr...|     harry| 2789|\n",
            "|The Order of the ...| voldemort|  211|\n",
            "|The Order of the ...|dumbledore|  661|\n",
            "|The Order of the ...|       ron| 1307|\n",
            "|The Order of the ...|  hermione| 1307|\n",
            "|The Order of the ...|     harry| 4092|\n",
            "|The Philosophers ...| voldemort|   38|\n",
            "|The Philosophers ...|dumbledore|  160|\n",
            "|The Philosophers ...|  hermione|  269|\n",
            "|The Philosophers ...|       ron|  429|\n",
            "|The Philosophers ...|     harry| 1325|\n",
            "|The Prisoner of A...| voldemort|   47|\n",
            "|The Prisoner of A...|dumbledore|  163|\n",
            "|The Prisoner of A...|  hermione|  672|\n",
            "|The Prisoner of A...|       ron|  791|\n",
            "|The Prisoner of A...|     harry| 2049|\n",
            "+--------------------+----------+-----+\n",
            "\n"
          ]
        }
      ]
    },
    {
      "cell_type": "markdown",
      "source": [
        "I specified 5 main characters and counted how many times their names popped up during each book. \n",
        "- As expected, Harry is mentioned the most out of each book. \n",
        "- Despite his importance, Voldemort's name is mentioned the least. This in part is probably since most characters do not refer to him by name, and in the final book, no one can say his name without facing consequences. There is still a pretty large increase in mentions over the course of the series, starting at 38 and finishing at 446. \n",
        "- Dumbledore is mentioned the second least in all books except The Half Blood Prince, where he is second most. This makes sense, since that is the book where he and Harry have the most interaction. \n",
        "- Hermione and Ron are pretty even, with Ron coming out slightly ahead in most books. There is a tie in The Order of the Phoenix, and Hermionioe has more mentions in The Goblet of Fire and The Deathly Hallows. This is probably because Ron doesn't speak to Harry for a good portion of those books. "
      ],
      "metadata": {
        "id": "gpbRoDYyjHEb"
      }
    },
    {
      "cell_type": "code",
      "source": [
        "no_stop.filter(array_contains(no_stop.clean, \"harry\") & array_contains(no_stop.clean, \"ron\")).count()"
      ],
      "metadata": {
        "colab": {
          "base_uri": "https://localhost:8080/"
        },
        "id": "9pZam_XOsHmU",
        "outputId": "66081451-8d04-4048-e01b-995f8638ab74"
      },
      "execution_count": 67,
      "outputs": [
        {
          "output_type": "execute_result",
          "data": {
            "text/plain": [
              "2207"
            ]
          },
          "metadata": {},
          "execution_count": 67
        }
      ]
    },
    {
      "cell_type": "code",
      "source": [
        "no_stop.filter(array_contains(no_stop.clean, \"harry\") & array_contains(no_stop.clean, \"hermione\")).count()"
      ],
      "metadata": {
        "colab": {
          "base_uri": "https://localhost:8080/"
        },
        "id": "c72p_2921XFL",
        "outputId": "29b7d29d-272c-432d-e9ab-0e0bc2be7b65"
      },
      "execution_count": 68,
      "outputs": [
        {
          "output_type": "execute_result",
          "data": {
            "text/plain": [
              "1889"
            ]
          },
          "metadata": {},
          "execution_count": 68
        }
      ]
    },
    {
      "cell_type": "code",
      "source": [
        "no_stop.filter(array_contains(no_stop.clean, \"harry\") & array_contains(no_stop.clean, \"dumbledore\")).count()"
      ],
      "metadata": {
        "colab": {
          "base_uri": "https://localhost:8080/"
        },
        "id": "Og_T6oxA1XSG",
        "outputId": "1af752e9-e1c9-4d63-9777-edd53ab8bf76"
      },
      "execution_count": 69,
      "outputs": [
        {
          "output_type": "execute_result",
          "data": {
            "text/plain": [
              "956"
            ]
          },
          "metadata": {},
          "execution_count": 69
        }
      ]
    },
    {
      "cell_type": "code",
      "source": [
        "no_stop.filter(array_contains(no_stop.clean, \"harry\") & array_contains(no_stop.clean, \"voldemort\")).count()"
      ],
      "metadata": {
        "colab": {
          "base_uri": "https://localhost:8080/"
        },
        "id": "dB9IymCd1XVj",
        "outputId": "9e910202-6f03-4691-c986-8aaee7581b28"
      },
      "execution_count": 70,
      "outputs": [
        {
          "output_type": "execute_result",
          "data": {
            "text/plain": [
              "355"
            ]
          },
          "metadata": {},
          "execution_count": 70
        }
      ]
    },
    {
      "cell_type": "code",
      "source": [
        "no_stop.filter(array_contains(no_stop.clean, \"ron\") & array_contains(no_stop.clean, \"hermione\")).count()"
      ],
      "metadata": {
        "colab": {
          "base_uri": "https://localhost:8080/"
        },
        "id": "8srP7XAg1XYP",
        "outputId": "87d75321-e132-4357-9190-d856f506e82c"
      },
      "execution_count": 71,
      "outputs": [
        {
          "output_type": "execute_result",
          "data": {
            "text/plain": [
              "1645"
            ]
          },
          "metadata": {},
          "execution_count": 71
        }
      ]
    },
    {
      "cell_type": "code",
      "source": [
        "no_stop.filter(array_contains(no_stop.clean, \"ron\") & array_contains(no_stop.clean, \"dumbledore\")).count()"
      ],
      "metadata": {
        "colab": {
          "base_uri": "https://localhost:8080/"
        },
        "id": "ug72mSXD1Xba",
        "outputId": "c18f120a-4f42-4807-d0c7-13697bc4b3ca"
      },
      "execution_count": 72,
      "outputs": [
        {
          "output_type": "execute_result",
          "data": {
            "text/plain": [
              "128"
            ]
          },
          "metadata": {},
          "execution_count": 72
        }
      ]
    },
    {
      "cell_type": "code",
      "source": [
        "no_stop.filter(array_contains(no_stop.clean, \"ron\") & array_contains(no_stop.clean, \"voldemort\")).count()"
      ],
      "metadata": {
        "colab": {
          "base_uri": "https://localhost:8080/"
        },
        "id": "mfZsuj1I1k78",
        "outputId": "4dd42889-d4e7-402f-cd3e-b07ac8905876"
      },
      "execution_count": 73,
      "outputs": [
        {
          "output_type": "execute_result",
          "data": {
            "text/plain": [
              "44"
            ]
          },
          "metadata": {},
          "execution_count": 73
        }
      ]
    },
    {
      "cell_type": "code",
      "source": [
        "no_stop.filter(array_contains(no_stop.clean, \"hermione\") & array_contains(no_stop.clean, \"dumbledore\")).count()"
      ],
      "metadata": {
        "colab": {
          "base_uri": "https://localhost:8080/"
        },
        "id": "kJPEZISd1lF3",
        "outputId": "29dd2c33-f807-4ecd-f189-a07a7c33a11d"
      },
      "execution_count": 74,
      "outputs": [
        {
          "output_type": "execute_result",
          "data": {
            "text/plain": [
              "126"
            ]
          },
          "metadata": {},
          "execution_count": 74
        }
      ]
    },
    {
      "cell_type": "code",
      "source": [
        "no_stop.filter(array_contains(no_stop.clean, \"hermione\") & array_contains(no_stop.clean, \"voldemort\")).count()"
      ],
      "metadata": {
        "colab": {
          "base_uri": "https://localhost:8080/"
        },
        "id": "cq1CfeC61uOv",
        "outputId": "1c6891f8-43cf-4a9a-f233-3cccb6fea20e"
      },
      "execution_count": 75,
      "outputs": [
        {
          "output_type": "execute_result",
          "data": {
            "text/plain": [
              "43"
            ]
          },
          "metadata": {},
          "execution_count": 75
        }
      ]
    },
    {
      "cell_type": "code",
      "source": [
        "no_stop.filter(array_contains(no_stop.clean, \"dumbledore\") & array_contains(no_stop.clean, \"voldemort\")).count()"
      ],
      "metadata": {
        "colab": {
          "base_uri": "https://localhost:8080/"
        },
        "id": "QEOxVnbn1uo7",
        "outputId": "67a3f70d-93c2-434f-d435-84457c3e56bb"
      },
      "execution_count": 76,
      "outputs": [
        {
          "output_type": "execute_result",
          "data": {
            "text/plain": [
              "112"
            ]
          },
          "metadata": {},
          "execution_count": 76
        }
      ]
    },
    {
      "cell_type": "markdown",
      "source": [
        "As a rudimentary method of relationship analysis I counted the occurances of each of Harry, Ron, Hermione, Dumbledore, and Voldemort in a sentance with one other character. In order of strongest to weakest character relationship:\n",
        "- Harry and Ron\n",
        "- Harry and Hermione\n",
        "- Ron and Hermione\n",
        "- Harry and Dumbledore\n",
        "- Harry and Voldemort\n",
        "- Ron and Dumbledore\n",
        "- Hermione and Dumbledore\n",
        "- Ron and Voldemort\n",
        "- Hermione and Voldemort"
      ],
      "metadata": {
        "id": "UtvUiw_H5WdY"
      }
    },
    {
      "cell_type": "markdown",
      "source": [
        "## Topic Modeling\n",
        "Use TF-IDF to determine important words. Start by calculating the frequency of each term in a document with CountVectorizer."
      ],
      "metadata": {
        "id": "nGpZPmKOhAAl"
      }
    },
    {
      "cell_type": "code",
      "source": [
        "# the next few cells are from https://medium.com/trustyou-engineering/topic-modelling-with-pyspark-and-spark-nlp-a99d063f1a6e\n",
        "tfizer = CountVectorizer(inputCol='words',\n",
        "                         outputCol='tf_features')\n",
        "tf_model = tfizer.fit(books)\n",
        "tf_result = tf_model.transform(books)"
      ],
      "metadata": {
        "id": "d17ATMLuguWA"
      },
      "execution_count": 78,
      "outputs": []
    },
    {
      "cell_type": "markdown",
      "source": [
        "Get the IDF (inverse frequency of documents where a term occurred)"
      ],
      "metadata": {
        "id": "bNUJS4xfhDph"
      }
    },
    {
      "cell_type": "code",
      "source": [
        "idfizer = IDF(inputCol='tf_features', \n",
        "              outputCol='tf_idf_features')\n",
        "idf_model = idfizer.fit(tf_result)\n",
        "tfidf_result = idf_model.transform(tf_result)"
      ],
      "metadata": {
        "id": "4nDzTjZChGm-"
      },
      "execution_count": 79,
      "outputs": []
    },
    {
      "cell_type": "markdown",
      "source": [
        "Use LDA to identify the predefined number of topics within the data"
      ],
      "metadata": {
        "id": "b9r1aVQOhR1b"
      }
    },
    {
      "cell_type": "code",
      "source": [
        "num_topics = 35\n",
        "max_iter = 100\n",
        "lda = LDA(k=num_topics, \n",
        "          maxIter=max_iter, \n",
        "          featuresCol='tf_idf_features')\n",
        "lda_model = lda.fit(tfidf_result)"
      ],
      "metadata": {
        "id": "kTPPzeWhhVl0"
      },
      "execution_count": 80,
      "outputs": []
    },
    {
      "cell_type": "markdown",
      "source": [
        "View the words that describe the topicsusing a UDF that converts word ids (the actual output for a topic by a topic model) into words:"
      ],
      "metadata": {
        "id": "Q3p7LxZ1ham_"
      }
    },
    {
      "cell_type": "code",
      "source": [
        "vocab = tf_model.vocabulary\n",
        "def get_words(token_list):\n",
        "    return [vocab[token_id] for token_id in token_list]\n",
        "udf_to_words = udf(get_words, ArrayType(StringType()))"
      ],
      "metadata": {
        "id": "Mj1_Gi_JhbRD"
      },
      "execution_count": 81,
      "outputs": []
    },
    {
      "cell_type": "markdown",
      "source": [
        "View words for each modelled topic using describeTopics(). Show 10"
      ],
      "metadata": {
        "id": "sK0Bs1LuhiGT"
      }
    },
    {
      "cell_type": "code",
      "source": [
        "num_top_words = 10\n",
        "topics = lda_model\\\n",
        "     .describeTopics(num_top_words)\\\n",
        "     .withColumn('topicWords', udf_to_words(col('termIndices')))\n",
        "topics.select('topic', 'topicWords').show(truncate=False)"
      ],
      "metadata": {
        "colab": {
          "base_uri": "https://localhost:8080/"
        },
        "id": "vgNWRSAUhhZE",
        "outputId": "aaa6678b-09d3-4237-9bcb-db06563ca6be"
      },
      "execution_count": 82,
      "outputs": [
        {
          "output_type": "stream",
          "name": "stdout",
          "text": [
            "+-----+--------------------------------------------------------------------------------------------------------+\n",
            "|topic|topicWords                                                                                              |\n",
            "+-----+--------------------------------------------------------------------------------------------------------+\n",
            "|0    |[frayed, wending, gummed, lurked, wilbert, evile, domineering, ebb, pour, folds]                        |\n",
            "|1    |[tooding, obedience, complex, uselessly, pleasurably, cheeky, euan, lulled, troupe, provoke]            |\n",
            "|2    |[bagman, winky, lupin, k, champions, moody, karkaroff, umbridge, ludo, krum]                            |\n",
            "|3    |[bagman, moody, winky, karkaroff, champions, krum, k, bertha, quirrell, ludo]                           |\n",
            "|4    |[bagman, winky, champions, karkaroff, k, bertha, krum, cedric, ludo, beauxbatons]                       |\n",
            "|5    |[insistently, despises, grunnings, augustus, clubbing, beers, acceptable, turnout, scrivenshaft, pinged]|\n",
            "|6    |[zoological, unseeing, dispute, storeroom, broomsticks, tittered, dunking, distort, tens, blah]         |\n",
            "|7    |[slughorn, hallows, luna, kreacher, griphook, xenophilius, horcrux, bellatrix, eaters, tonks]           |\n",
            "|8    |[sock, scruffy, amazing, neptune, bertram, shelter, irrelevant, barnabas, youthful, pesternomti]        |\n",
            "|9    |[quirrell, mom, flamel, turban, creepers, chessmen, piers, restricted, converge, nimbus]                |\n",
            "|10   |[spying, webs, resurface, conflict, hummed, cages, crookshanks, scour, blubber, caged]                  |\n",
            "|11   |[befuddled, intersected, transports, declaring, jokin, strength, fir, fumbled, driven, squeaky]         |\n",
            "|12   |[loped, forearms, projection, push, sneaking, beat, trollishly, acted, edged, distance]                 |\n",
            "|13   |[umbridge, bagman, winky, moody, luna, k, karkaroff, champions, ludo, krum]                             |\n",
            "|14   |[pervaded, oaf, crossly, potatoes, bat, relatives, sympathetic, maggoty, audacious, lunge]              |\n",
            "|15   |[born, flint, keenest, immersing, vosn, fish, unanswerable, engorgement, ungrateful, spooned]           |\n",
            "|16   |[bacon, unoccupied, dimpled, unnamed, saucepan, fireside, screeches, blindly, experimental, scoreboard] |\n",
            "|17   |[importantly, clash, lifted, gallop, groggily, beam, phyllida, lid, celebrate, felix]                   |\n",
            "|18   |[wicked, overrun, binky, windowpanes, aaaaahed, event, tightly, revolt, record, controlling]            |\n",
            "|19   |[bounce, contaminate, ft, plan, domed, hopes, vith, queasy, stiffly, quality]                           |\n",
            "+-----+--------------------------------------------------------------------------------------------------------+\n",
            "only showing top 20 rows\n",
            "\n"
          ]
        }
      ]
    },
    {
      "cell_type": "markdown",
      "source": [
        "Some of the topics are very vague, and there are a lot of words shared between them. Many of them seem like just a list of names. It might be beneficial to perform LDA individually on each book for separate topic lists, and to remove common names to see how that changes the output. "
      ],
      "metadata": {
        "id": "hPM5ErE8iaGb"
      }
    },
    {
      "cell_type": "markdown",
      "source": [
        "## Conclusion\n"
      ],
      "metadata": {
        "id": "FTi-r8vvy0Pt"
      }
    },
    {
      "cell_type": "code",
      "source": [
        ""
      ],
      "metadata": {
        "id": "62XR1PnD99il"
      },
      "execution_count": null,
      "outputs": []
    }
  ]
}