{
  "nbformat": 4,
  "nbformat_minor": 0,
  "metadata": {
    "colab": {
      "name": "final_sparknlp.ipynb",
      "provenance": [],
      "collapsed_sections": [],
      "machine_shape": "hm",
      "authorship_tag": "ABX9TyMbo/b7PMZ9Btx5miRoaTsp",
      "include_colab_link": true
    },
    "kernelspec": {
      "name": "python3",
      "display_name": "Python 3"
    },
    "language_info": {
      "name": "python"
    }
  },
  "cells": [
    {
      "cell_type": "markdown",
      "metadata": {
        "id": "view-in-github",
        "colab_type": "text"
      },
      "source": [
        "<a href=\"https://colab.research.google.com/github/steinruck/data603-sp22/blob/project-submission/project/topic_modeling.ipynb\" target=\"_parent\"><img src=\"https://colab.research.google.com/assets/colab-badge.svg\" alt=\"Open In Colab\"/></a>"
      ]
    },
    {
      "cell_type": "markdown",
      "source": [
        "# Natural Language Processing in Spark: A Harry Potter Text Analysis\n",
        "------------------\n",
        "\n",
        "<img width=40% src=\"https://drive.google.com/uc?id=1OzWzINEE4ircGGW-BMWffUJo_NaNmUt3\" align=\"left\">\n",
        "\n",
        "## Table of Contents\n",
        "\n",
        "__[1. Introduction](#first-bullet)__\n",
        "\n",
        "__[2. SparkNLP](#second-bullet)__\n",
        "\n",
        "__[3.Preprocessing and Word Counts](#third-bullet)__\n",
        "\n",
        "__[4. Character Analysis](#fourth-bullet)__\n",
        "\n",
        "__[5. Topic Modeling](#fifth-bullet)__\n",
        "\n",
        "__[6. Conclusion](#sixth-bullet)__\n",
        "\n",
        "------------------\n",
        "\n",
        "## 1. Introduction <a name=\"first-bullet\"></a>\n",
        "<img width=40% src=\"https://drive.google.com/uc?id=1KuVM2ADL1VLBnCJxVm94psK25jjIfq5y\" align = \"right\">\n",
        "Over a period of 10 years the entire Harry Potter series consisting of 7 books and over 1 million words was created. It contains over 80 spells, 700 characters, and has a series of overlapping plot devices and topics that effectively captured the attention of several generations. As a kid my dad gave me my first Harry Potter book when I was in the first grade and I was hooked. After that we went to evey midnight book release and movie premiere. Each member of my family would get their own copy of the book and we'd stay up all night reading it. We'd even get to skip school the next day if it was a school day. As such a large part of my childhood, it seemed fitting to use new skills to discover another dimension of the series.\n",
        "\n",
        "\n",
        "### Project Goals\n",
        "I already know a lot about Harry Potter. Throughout this project I want to extract hidden information and see how it fits in with my overall understanding of the series. Analysis activities will include:\n",
        "- Document Assembly\n",
        "- Sentence Detection\n",
        "- Tokenization\n",
        "- Stop Word Removal\n",
        "- Preprocessing\n",
        "- Word Count\n",
        "    - total per book\n",
        "    - most common words and their counts\n",
        "- Character Analysis \n",
        "    - focus on Harry, Ron, Hermione, Dumbledore, and Voldemort\n",
        "    - count occurances by book\n",
        "    - count appearance of any two in the same sentance (simulate relationship)\n",
        "\n",
        "### Data Source\n",
        "This data comes in the form of 7 .txt files from a GitHub repo: https://github.com/formcept/whiteboard/tree/master/nbviewer/notebooks/data/harrypotter. I own 5 complete sets of the books myself, I just didn't have them in .txt format. I do not promote piracy or copyright infringement. Use of this data is for educational purposes only. The text was formatted and merged in a different notebook located in the same directory as this one and exported to a CSV called books_6_rows.csv. There are 7 rows but I don't feel like changing the name. That is the file that is used for this notebook.\n",
        "\n",
        "### Getting Started\n",
        "- This notebook was crafted and run in Google Colab. If you would like to run from a local host, follow the environment setup instructions from John Snow Labs for SparkNLP. It's extensive and confusing so I would not recommend. If you do manage to secure all the dependencies, simply change all file paths to reference your local machine."
      ],
      "metadata": {
        "id": "D4ySFIAEEDOh"
      }
    },
    {
      "cell_type": "code",
      "execution_count": 1,
      "metadata": {
        "colab": {
          "base_uri": "https://localhost:8080/"
        },
        "id": "Ad73wyO4cV_H",
        "outputId": "a95dcdef-6c3f-4643-c4f8-164a6517fe0f"
      },
      "outputs": [
        {
          "output_type": "stream",
          "name": "stdout",
          "text": [
            "Mounted at /content/drive\n"
          ]
        }
      ],
      "source": [
        "# mount drive\n",
        "from google.colab import drive\n",
        "drive.mount('/content/drive')"
      ]
    },
    {
      "cell_type": "code",
      "source": [
        "# this is to get sparknlp running in colab\n",
        "!wget http://setup.johnsnowlabs.com/colab.sh -O - | bash"
      ],
      "metadata": {
        "colab": {
          "base_uri": "https://localhost:8080/"
        },
        "id": "zf3_PeGwdH0C",
        "outputId": "4ce1aec4-77eb-485f-aa46-1b143f6318c5"
      },
      "execution_count": 2,
      "outputs": [
        {
          "output_type": "stream",
          "name": "stdout",
          "text": [
            "--2022-05-12 11:25:16--  http://setup.johnsnowlabs.com/colab.sh\n",
            "Resolving setup.johnsnowlabs.com (setup.johnsnowlabs.com)... 51.158.130.125\n",
            "Connecting to setup.johnsnowlabs.com (setup.johnsnowlabs.com)|51.158.130.125|:80... connected.\n",
            "HTTP request sent, awaiting response... 302 Found\n",
            "Location: https://setup.johnsnowlabs.com/colab.sh [following]\n",
            "--2022-05-12 11:25:16--  https://setup.johnsnowlabs.com/colab.sh\n",
            "Connecting to setup.johnsnowlabs.com (setup.johnsnowlabs.com)|51.158.130.125|:443... connected.\n",
            "HTTP request sent, awaiting response... 302 Moved Temporarily\n",
            "Location: https://raw.githubusercontent.com/JohnSnowLabs/spark-nlp/master/scripts/colab_setup.sh [following]\n",
            "--2022-05-12 11:25:16--  https://raw.githubusercontent.com/JohnSnowLabs/spark-nlp/master/scripts/colab_setup.sh\n",
            "Resolving raw.githubusercontent.com (raw.githubusercontent.com)... 185.199.108.133, 185.199.109.133, 185.199.110.133, ...\n",
            "Connecting to raw.githubusercontent.com (raw.githubusercontent.com)|185.199.108.133|:443... connected.\n",
            "HTTP request sent, awaiting response... 200 OK\n",
            "Length: 1603 (1.6K) [text/plain]\n",
            "Saving to: ‘STDOUT’\n",
            "\n",
            "-                     0%[                    ]       0  --.-KB/s               setup Colab for PySpark 3.0.3 and Spark NLP 3.4.4\n",
            "Installing PySpark 3.0.3 and Spark NLP 3.4.4\n",
            "-                   100%[===================>]   1.57K  --.-KB/s    in 0.001s  \n",
            "\n",
            "2022-05-12 11:25:16 (2.12 MB/s) - written to stdout [1603/1603]\n",
            "\n",
            "\u001b[K     |████████████████████████████████| 209.1 MB 44 kB/s \n",
            "\u001b[K     |████████████████████████████████| 145 kB 61.3 MB/s \n",
            "\u001b[K     |████████████████████████████████| 198 kB 60.3 MB/s \n",
            "\u001b[?25h  Building wheel for pyspark (setup.py) ... \u001b[?25l\u001b[?25hdone\n"
          ]
        }
      ]
    },
    {
      "cell_type": "code",
      "source": [
        "# spark nlp imports\n",
        "import sparknlp\n",
        "from sparknlp import DocumentAssembler\n",
        "from sparknlp.annotator import SentenceDetector\n",
        "from sparknlp.annotator import Tokenizer\n",
        "from pyspark.ml import Pipeline\n",
        "\n",
        "# general pyspark imports\n",
        "from pyspark.sql.functions import col, regexp_replace, concat_ws, split, collect_list, explode, size, expr, array_contains, udf\n",
        "from pyspark.ml.feature import StopWordsRemover, CountVectorizer, IDF\n",
        "from pyspark.sql.types import StringType, ArrayType\n",
        "from pyspark.ml.clustering import LDA"
      ],
      "metadata": {
        "id": "qIeiS9X5dQG6"
      },
      "execution_count": 3,
      "outputs": []
    },
    {
      "cell_type": "code",
      "source": [
        "# start sparknlp session\n",
        "spark = sparknlp.start()\n",
        "\n",
        "print(\"Spark NLP version: {}\".format(sparknlp.version()))\n",
        "print(\"Apache Spark version: {}\".format(spark.version))"
      ],
      "metadata": {
        "id": "r18FcDfX0lj2",
        "colab": {
          "base_uri": "https://localhost:8080/"
        },
        "outputId": "d5e01ff6-2c6c-46fb-92fe-2b19ca1530fc"
      },
      "execution_count": 4,
      "outputs": [
        {
          "output_type": "stream",
          "name": "stdout",
          "text": [
            "Spark NLP version: 3.4.4\n",
            "Apache Spark version: 3.0.3\n"
          ]
        }
      ]
    },
    {
      "cell_type": "code",
      "source": [
        "# load dataset\n",
        "# starts as 7 rows; one for each book\n",
        "data = spark.read.csv('/content/drive/Shareddrives/Project/submission/books_6_rows.csv', header='true')\n",
        "data.show()"
      ],
      "metadata": {
        "id": "WQoL0BIldQSA",
        "colab": {
          "base_uri": "https://localhost:8080/"
        },
        "outputId": "3e6312b1-6610-4496-9570-10cdafae99f0"
      },
      "execution_count": 5,
      "outputs": [
        {
          "output_type": "stream",
          "name": "stdout",
          "text": [
            "+--------------------+--------------------+\n",
            "|                text|              titles|\n",
            "+--------------------+--------------------+\n",
            "| the boy who live...|The Philosophers ...|\n",
            "| . . l harry pott...|The Chamber of Se...|\n",
            "| owl post harry p...|The Prisoner of A...|\n",
            "| the riddle house...|  The Goblet of Fire|\n",
            "|harry potter dudl...|The Order of the ...|\n",
            "| the other minist...|The Half-Blood Pr...|\n",
            "|i the dark lord a...| The Deathly Hallows|\n",
            "+--------------------+--------------------+\n",
            "\n"
          ]
        }
      ]
    },
    {
      "cell_type": "markdown",
      "source": [
        "You can see above there are only 7 observations in this dataset; one for each book in the series. There are also some formatting errors, as well as extra characters. There are two columns, one containing titles, one containing the text. Both have string data types. \n"
      ],
      "metadata": {
        "id": "eaT6J3Xbf-94"
      }
    },
    {
      "cell_type": "code",
      "source": [
        "# there are only two columns, both strings\n",
        "print(\"There are \" + str(data.count()) + \" rows in this dataset\")\n",
        "\n",
        "data.printSchema()"
      ],
      "metadata": {
        "colab": {
          "base_uri": "https://localhost:8080/"
        },
        "id": "IQ0pD1cJd2b2",
        "outputId": "a0f2586c-84c5-453a-bc38-faf30ccc42eb"
      },
      "execution_count": 6,
      "outputs": [
        {
          "output_type": "stream",
          "name": "stdout",
          "text": [
            "There are 7 rows in this dataset\n",
            "root\n",
            " |-- text: string (nullable = true)\n",
            " |-- titles: string (nullable = true)\n",
            "\n"
          ]
        }
      ]
    },
    {
      "cell_type": "markdown",
      "source": [
        "\n",
        "## 2. SparkNLP <a name=\"second-bullet\"></a>\n",
        "This library from John Snow Labs includes many conventional Natural Language Processing options as well as a great number of pretrained models for a variety of purposes. If everything had gone to plan, I would have used pretrained models for lemmatization, named entity recognition, and others. However, running any pretrained model in Colab caused it to run out of ram, and any attempts to get a working environment using Databricks and a local Spark installation led to dependency issues I couldn't resolve. Instead, I will conduct some pre-processing and data cleaning using spark before moving into pandas and sklearn for modeling and prediction. \n",
        "\n",
        "</br>\n",
        "\n",
        "---\n",
        "\n",
        "</br>\n",
        "\n",
        "### Formatting\n",
        "\n",
        "The first step is to make sure the data is in the format needed for annotators to use. In `sparknlp`, annotators can be either estimators or transformers, similar to Spark ML. There are two types of annotators: AnnotatorApproach and AnnotatorModel. AnnotatorApproach methods require a `transform()`, and AnnotatorModel methods require a `fit()` and a `transform()`.\n",
        "\n",
        "#### DocumentAssembler\n",
        ">Transformers are used to convert a dataframe from one annotator type to the other. DocumentAssembler is one of these. This transformer annotates the raw data so that it is in the right format for other annotators to use. \n",
        "\n",
        "#### SentenceDetector\n",
        ">The newly created 'document' column is fed into the SentenceDetector which creates an array of sentences and a new column called 'sentences'. In this case, the array is exploded so each sentence becomes a new line. \n",
        "\n",
        "#### Tokenizer\n",
        ">Tokenizer is an annotator that transforms the DataFrame without using a pretrained model. It is used to convert strings into arrays of sentences with identifying metadata. It is of the AnnotatorModel type. \n",
        "\n",
        "#### Pipeline\n",
        "> Spark NLP interacts with Spark ML via an API. All Spark annotators and transformers can be used in a pipeline. Each of the above can be run in sequence, passing the output as input to the next. "
      ],
      "metadata": {
        "id": "Jo-tU-O5i1f3"
      }
    },
    {
      "cell_type": "code",
      "source": [
        "# use DocumentAssembler on dataframe, input is the text column, output is document\n",
        "# id is the title of the book so each sentence remains connected to the book\n",
        "document_assembler = DocumentAssembler()\\\n",
        "    .setInputCol('text')\\\n",
        "    .setOutputCol('document')\\\n",
        "    .setIdCol('titles')\n",
        "\n",
        "# use SentenceDetector on document column, output sentence column - recognizes sentences\n",
        "# explode set to true (makes each sentence its own line)\n",
        "sent_detector = SentenceDetector()\\\n",
        "    .setInputCols(['document'])\\\n",
        "    .setOutputCol('sentences')\\\n",
        "    .setExplodeSentences(True)\n",
        "\n",
        "# use Tokenizer for word tokenization\n",
        "tokenizer = Tokenizer()\\\n",
        "    .setInputCols(['sentences'])\\\n",
        "    .setOutputCol('tokens')\n",
        "\n",
        "# set the stages of the pipeline\n",
        "pipeline = Pipeline(stages=[\n",
        "    document_assembler,\n",
        "    sent_detector,\n",
        "    tokenizer                         \n",
        "])\n",
        "\n",
        "# fit and transform \n",
        "pipeline_model = pipeline.fit(data).transform(data)"
      ],
      "metadata": {
        "id": "CsvtGgeCeA1y"
      },
      "execution_count": 7,
      "outputs": []
    },
    {
      "cell_type": "code",
      "source": [
        "# the output of the pipeline is a dataframe. It doesn't provide much use at first glance\n",
        "pipeline_model.show()"
      ],
      "metadata": {
        "colab": {
          "base_uri": "https://localhost:8080/"
        },
        "id": "HawKdDxseDHI",
        "outputId": "d7cb49db-d1e2-4bca-b209-6862dcc4b7cf"
      },
      "execution_count": 8,
      "outputs": [
        {
          "output_type": "stream",
          "name": "stdout",
          "text": [
            "+--------------------+--------------------+--------------------+--------------------+--------------------+\n",
            "|                text|              titles|            document|           sentences|              tokens|\n",
            "+--------------------+--------------------+--------------------+--------------------+--------------------+\n",
            "| the boy who live...|The Philosophers ...|[[document, 0, 41...|[[document, 1, 13...|[[token, 1, 3, th...|\n",
            "| the boy who live...|The Philosophers ...|[[document, 0, 41...|[[document, 139, ...|[[token, 139, 142...|\n",
            "| the boy who live...|The Philosophers ...|[[document, 0, 41...|[[document, 273, ...|[[token, 273, 274...|\n",
            "| the boy who live...|The Philosophers ...|[[document, 0, 41...|[[document, 346, ...|[[token, 346, 347...|\n",
            "| the boy who live...|The Philosophers ...|[[document, 0, 41...|[[document, 430, ...|[[token, 430, 432...|\n",
            "| the boy who live...|The Philosophers ...|[[document, 0, 41...|[[document, 620, ...|[[token, 620, 622...|\n",
            "| the boy who live...|The Philosophers ...|[[document, 0, 41...|[[document, 714, ...|[[token, 714, 716...|\n",
            "| the boy who live...|The Philosophers ...|[[document, 0, 41...|[[document, 840, ...|[[token, 840, 843...|\n",
            "| the boy who live...|The Philosophers ...|[[document, 0, 41...|[[document, 914, ...|[[token, 914, 916...|\n",
            "| the boy who live...|The Philosophers ...|[[document, 0, 41...|[[document, 1137,...|[[token, 1137, 11...|\n",
            "| the boy who live...|The Philosophers ...|[[document, 0, 41...|[[document, 1236,...|[[token, 1236, 12...|\n",
            "| the boy who live...|The Philosophers ...|[[document, 0, 41...|[[document, 1323,...|[[token, 1323, 13...|\n",
            "| the boy who live...|The Philosophers ...|[[document, 0, 41...|[[document, 1436,...|[[token, 1436, 14...|\n",
            "| the boy who live...|The Philosophers ...|[[document, 0, 41...|[[document, 1651,...|[[token, 1651, 16...|\n",
            "| the boy who live...|The Philosophers ...|[[document, 0, 41...|[[document, 1809,...|[[token, 1809, 18...|\n",
            "| the boy who live...|The Philosophers ...|[[document, 0, 41...|[[document, 1871,...|[[token, 1871, 18...|\n",
            "| the boy who live...|The Philosophers ...|[[document, 0, 41...|[[document, 2080,...|[[token, 2080, 20...|\n",
            "| the boy who live...|The Philosophers ...|[[document, 0, 41...|[[document, 2135,...|[[token, 2135, 21...|\n",
            "| the boy who live...|The Philosophers ...|[[document, 0, 41...|[[document, 2192,...|[[token, 2192, 21...|\n",
            "| the boy who live...|The Philosophers ...|[[document, 0, 41...|[[document, 2297,...|[[token, 2297, 22...|\n",
            "+--------------------+--------------------+--------------------+--------------------+--------------------+\n",
            "only showing top 20 rows\n",
            "\n"
          ]
        }
      ]
    },
    {
      "cell_type": "code",
      "source": [
        "# data can be extracted, such as the first sentence of the first document and its metadata\n",
        "pipeline_model.first()['sentences'][0].asDict()"
      ],
      "metadata": {
        "colab": {
          "base_uri": "https://localhost:8080/"
        },
        "id": "EqDUh_imuZqh",
        "outputId": "1ae4ee29-b37f-4d08-d8f4-ea2d9e3e9328"
      },
      "execution_count": 9,
      "outputs": [
        {
          "output_type": "execute_result",
          "data": {
            "text/plain": [
              "{'annotatorType': 'document',\n",
              " 'begin': 1,\n",
              " 'embeddings': [],\n",
              " 'end': 137,\n",
              " 'metadata': {'sentence': '0'},\n",
              " 'result': 'the boy who lived mr. and mrs. dursley of number four privet drive were proud to say that they were perfectly normal thank you very much.'}"
            ]
          },
          "metadata": {},
          "execution_count": 9
        }
      ]
    },
    {
      "cell_type": "code",
      "source": [
        "# the schema of the original dataframe has changed\n",
        "# there are now 5 columns, with document, sentences, and tokens being arrays created in the pipeline\n",
        "pipeline_model.printSchema()"
      ],
      "metadata": {
        "colab": {
          "base_uri": "https://localhost:8080/"
        },
        "id": "62pCkFnde_-4",
        "outputId": "158eb05c-7324-48d3-bd9e-e167b141b1fb"
      },
      "execution_count": 10,
      "outputs": [
        {
          "output_type": "stream",
          "name": "stdout",
          "text": [
            "root\n",
            " |-- text: string (nullable = true)\n",
            " |-- titles: string (nullable = true)\n",
            " |-- document: array (nullable = true)\n",
            " |    |-- element: struct (containsNull = true)\n",
            " |    |    |-- annotatorType: string (nullable = true)\n",
            " |    |    |-- begin: integer (nullable = false)\n",
            " |    |    |-- end: integer (nullable = false)\n",
            " |    |    |-- result: string (nullable = true)\n",
            " |    |    |-- metadata: map (nullable = true)\n",
            " |    |    |    |-- key: string\n",
            " |    |    |    |-- value: string (valueContainsNull = true)\n",
            " |    |    |-- embeddings: array (nullable = true)\n",
            " |    |    |    |-- element: float (containsNull = false)\n",
            " |-- sentences: array (nullable = false)\n",
            " |    |-- element: struct (containsNull = true)\n",
            " |    |    |-- annotatorType: string (nullable = true)\n",
            " |    |    |-- begin: integer (nullable = false)\n",
            " |    |    |-- end: integer (nullable = false)\n",
            " |    |    |-- result: string (nullable = true)\n",
            " |    |    |-- metadata: map (nullable = true)\n",
            " |    |    |    |-- key: string\n",
            " |    |    |    |-- value: string (valueContainsNull = true)\n",
            " |    |    |-- embeddings: array (nullable = true)\n",
            " |    |    |    |-- element: float (containsNull = false)\n",
            " |-- tokens: array (nullable = true)\n",
            " |    |-- element: struct (containsNull = true)\n",
            " |    |    |-- annotatorType: string (nullable = true)\n",
            " |    |    |-- begin: integer (nullable = false)\n",
            " |    |    |-- end: integer (nullable = false)\n",
            " |    |    |-- result: string (nullable = true)\n",
            " |    |    |-- metadata: map (nullable = true)\n",
            " |    |    |    |-- key: string\n",
            " |    |    |    |-- value: string (valueContainsNull = true)\n",
            " |    |    |-- embeddings: array (nullable = true)\n",
            " |    |    |    |-- element: float (containsNull = false)\n",
            "\n"
          ]
        }
      ]
    },
    {
      "cell_type": "code",
      "source": [
        "# get a count of the new dataframe created by the pipeline\n",
        "# this number is the same as the number of sentences in the entire series\n",
        "pipeline_model.count()"
      ],
      "metadata": {
        "colab": {
          "base_uri": "https://localhost:8080/"
        },
        "id": "MYrXNM2R7siF",
        "outputId": "58dfe21a-3711-4af0-f98a-204d193e4c68"
      },
      "execution_count": 11,
      "outputs": [
        {
          "output_type": "execute_result",
          "data": {
            "text/plain": [
              "84981"
            ]
          },
          "metadata": {},
          "execution_count": 11
        }
      ]
    },
    {
      "cell_type": "markdown",
      "source": [
        "This is where I would use a pretrained model like `DistilBertEmbeddings()`, `NerDLModel.pretrained()`, to do some Named Entity recognition, or to do lemmatization. Since I couldn't get compute resources to cooperate, I will instead use Spark and Spark ML to do some further analysis. \n",
        "\n",
        "---\n",
        "\n",
        "## 3. Preprocessing and Word Counts <a name=\"third-bullet\"></a>\n",
        "Though I couldn't continue with SparkNLP, I can use pieces of the results from the pipeline to continue with analysis using various aspects of Spark/Pyspark. Specifically, I am creating a new dataframe that pulls the results of the different annotator into their own columns without including the metadata."
      ],
      "metadata": {
        "id": "oVjxiNxqwc0y"
      }
    },
    {
      "cell_type": "code",
      "source": [
        "# create a dataframe containing the title, sentence, and words\n",
        "df = pipeline_model.withColumn('sentence', pipeline_model.sentences['result'])\n",
        "df = df.withColumn('words', df.tokens['result'])\n",
        "\n",
        "df = df.select(df['titles'], df['sentence'], df['words'])\n",
        "df.show()"
      ],
      "metadata": {
        "colab": {
          "base_uri": "https://localhost:8080/"
        },
        "id": "ZFCTJqAleZ8e",
        "outputId": "ce40f605-826b-4f7e-9a85-1bea426f942b"
      },
      "execution_count": 12,
      "outputs": [
        {
          "output_type": "stream",
          "name": "stdout",
          "text": [
            "+--------------------+--------------------+--------------------+\n",
            "|              titles|            sentence|               words|\n",
            "+--------------------+--------------------+--------------------+\n",
            "|The Philosophers ...|[the boy who live...|[the, boy, who, l...|\n",
            "|The Philosophers ...|[they were the la...|[they, were, the,...|\n",
            "|The Philosophers ...|[mr. dursley was ...|[mr, ., dursley, ...|\n",
            "|The Philosophers ...|[he was big beefy...|[he, was, big, be...|\n",
            "|The Philosophers ...|[mrs. dursley was...|[mrs, ., dursley,...|\n",
            "|The Philosophers ...|[the dursley had ...|[the, dursley, ha...|\n",
            "|The Philosophers ...|[the dursleys had...|[the, dursleys, h...|\n",
            "|The Philosophers ...|[they didn think ...|[they, didn, thin...|\n",
            "|The Philosophers ...|[mrs. potter was ...|[mrs, ., potter, ...|\n",
            "|The Philosophers ...|[the dursleys shu...|[the, dursleys, s...|\n",
            "|The Philosophers ...|[the dursleys kne...|[the, dursleys, k...|\n",
            "|The Philosophers ...|[this boy was ano...|[this, boy, was, ...|\n",
            "|The Philosophers ...|[when mr. and mrs...|[when, mr, ., and...|\n",
            "|The Philosophers ...|[mr. dursley humm...|[mr, ., dursley, ...|\n",
            "|The Philosophers ...|[none of them not...|[none, of, them, ...|\n",
            "|The Philosophers ...|[at half past eig...|[at, half, past, ...|\n",
            "|The Philosophers ...|[little tyke chor...|[little, tyke, ch...|\n",
            "|The Philosophers ...|[he got into his ...|[he, got, into, h...|\n",
            "|The Philosophers ...|[it was on the co...|[it, was, on, the...|\n",
            "|The Philosophers ...|[for second mr. d...|[for, second, mr,...|\n",
            "+--------------------+--------------------+--------------------+\n",
            "only showing top 20 rows\n",
            "\n"
          ]
        }
      ]
    },
    {
      "cell_type": "code",
      "source": [
        "# count number of sentences per book\n",
        "sent_count = df.withColumn('book', col('titles'))\\\n",
        "    .groupBy('book')\\\n",
        "    .count()\\\n",
        "    .sort('count')\n",
        "\n",
        "sent_count.show(truncate=False)"
      ],
      "metadata": {
        "colab": {
          "base_uri": "https://localhost:8080/"
        },
        "id": "MpKgvc97eaP-",
        "outputId": "751fa5ef-8947-4b19-f655-64c8f2df3da2"
      },
      "execution_count": 13,
      "outputs": [
        {
          "output_type": "stream",
          "name": "stdout",
          "text": [
            "+------------------------+-----+\n",
            "|book                    |count|\n",
            "+------------------------+-----+\n",
            "|The Philosophers Stone  |6022 |\n",
            "|The Chamber of Secrets  |6610 |\n",
            "|The Prisoner of Azkaban |9663 |\n",
            "|The Half-Blood Prince   |13039|\n",
            "|The Deathly Hallows     |13794|\n",
            "|The Goblet of Fire      |16532|\n",
            "|The Order of the Phoenix|19321|\n",
            "+------------------------+-----+\n",
            "\n"
          ]
        }
      ]
    },
    {
      "cell_type": "code",
      "source": [
        "sent_count = sent_count.toPandas()\n",
        "sent_count.plot.bar(x='book', y='count')"
      ],
      "metadata": {
        "colab": {
          "base_uri": "https://localhost:8080/",
          "height": 413
        },
        "id": "Fd_ITsBmn4DX",
        "outputId": "1c562f11-1131-47fe-8ede-34526d77a4da"
      },
      "execution_count": 14,
      "outputs": [
        {
          "output_type": "execute_result",
          "data": {
            "text/plain": [
              "<matplotlib.axes._subplots.AxesSubplot at 0x7fa06cb2d150>"
            ]
          },
          "metadata": {},
          "execution_count": 14
        },
        {
          "output_type": "display_data",
          "data": {
            "text/plain": [
              "<Figure size 432x288 with 1 Axes>"
            ],
            "image/png": "[encoded data removed]"
          },
          "metadata": {
            "needs_background": "light"
          }
        }
      ]
    },
    {
      "cell_type": "markdown",
      "source": [
        "The Order of the Phoenix has the most sentences at 19320, The Philosopher's Stone has the fewest at 6023. This is a little innacurate because I don't know what extra stuff might be in the .txt files I used as my data. \n",
        "\n",
        "---\n",
        "</br>\n",
        "\n",
        "### Stop Word Removal\n",
        "Analyzing text data and word importance is easier if you filter out common words known as stop words. There are many lists of stop words I could have used, but I went with one that removes the most just to see what's left over. The list was retrieved from: https://www.ranks.nl/stopwords "
      ],
      "metadata": {
        "id": "Cw8koT7A05lx"
      }
    },
    {
      "cell_type": "code",
      "source": [
        "# create stop word list (a few things were added on the end to try to clean up a bit more)\n",
        "stop_words = ['a', 'able', 'about', 'above', 'abst', 'accordance', 'according', 'accordingly', 'across', \n",
        "              'act', 'actually', 'added', 'adj', 'affected', 'affecting', 'affects', 'after', 'afterwards', \n",
        "              'again', 'against', 'ah', 'all', 'almost', 'alone', 'along', 'already', 'also', 'although', \n",
        "              'always', 'am', 'among', 'amongst', 'an', 'and', 'announce', 'another', 'any', 'anybody', \n",
        "              'anyhow', 'anymore', 'anyone', 'anything', 'anyway', 'anyways', 'anywhere', 'apparently', \n",
        "              'approximately', 'are', 'aren', 'arent', 'arise', 'around', 'as', 'aside', 'ask', 'asking', \n",
        "              'at', 'auth', 'available', 'away', 'awfully', 'b', 'back', 'be', 'became', 'because', 'become', \n",
        "              'becomes', 'becoming', 'been', 'before', 'beforehand', 'begin', 'beginning', 'beginnings', \n",
        "              'begins', 'behind', 'being', 'believe', 'below', 'beside', 'besides', 'between', 'beyond', \n",
        "              'biol', 'both', 'brief', 'briefly', 'but', 'by', 'c', 'ca', 'came', 'can', 'cannot', \"can't\", \n",
        "              'cause', 'causes', 'certain', 'certainly', 'co', 'com', 'come', 'comes', 'contain', 'containing', \n",
        "              'contains', 'could', 'couldnt', 'd', 'date', 'did', \"didn't\", 'different', 'do', 'does', \"doesn't\", \n",
        "              'doing', 'done', \"don't\", 'down', 'downwards', 'due', 'during', 'e', 'each', 'ed', 'edu', 'effect', \n",
        "              'eg', 'eight', 'eighty', 'either', 'else', 'elsewhere', 'end', 'ending', 'enough', 'especially', \n",
        "              'et', 'et-al', 'etc', 'even', 'ever', 'every', 'everybody', 'everyone', 'everything', 'everywhere', \n",
        "              'ex', 'except', 'f', 'far', 'few', 'ff', 'fifth', 'first', 'five', 'fix', 'followed', 'following', \n",
        "              'follows', 'for', 'former', 'formerly', 'forth', 'found', 'four', 'from', 'further', 'furthermore', \n",
        "              'g', 'gave', 'get', 'gets', 'getting', 'give', 'given', 'gives', 'giving', 'go', 'goes', 'gone', \n",
        "              'got', 'gotten', 'h', 'had', 'happens', 'hardly', 'has', \"hasn't\", 'have', \"haven't\", 'having', \n",
        "              'he', 'hed', 'hence', 'her', 'here', 'hereafter', 'hereby', 'herein', 'heres', 'hereupon', 'hers', \n",
        "              'herself', 'hes', 'hi', 'hid', 'him', 'himself', 'his', 'hither', 'home', 'how', 'howbeit', 'however', \n",
        "              'hundred', 'i', 'id', 'ie', 'if', \"i'll\", 'im', 'immediate', 'immediately', 'importance', 'important', \n",
        "              'in', 'inc', 'indeed', 'index', 'information', 'instead', 'into', 'invention', 'inward', 'is', \"isn't\", \n",
        "              'it', 'itd', \"it'll\", 'its', 'itself', \"i've\", 'j', 'just', 'k', 'keep', 'keeps', 'kept', 'kg', 'km', \n",
        "              'know', 'known', 'knows', 'l', 'largely', 'last', 'lately', 'later', 'latter', 'latterly', 'least', \n",
        "              'less', 'lest', 'let', 'lets', 'like', 'liked', 'likely', 'line', 'little', \"'ll\", 'look', 'looking', \n",
        "              'looks', 'ltd', 'm', 'made', 'mainly', 'make', 'makes', 'many', 'may', 'maybe', 'me', 'mean', 'means', \n",
        "              'meantime', 'meanwhile', 'merely', 'mg', 'might', 'million', 'miss', 'ml', 'more', 'moreover', 'most', \n",
        "              'mostly', 'mr', 'mrs', 'much', 'mug', 'must', 'my', 'myself', 'n', 'na', 'name', 'namely', 'nay', 'nd', \n",
        "              'near', 'nearly', 'necessarily', 'necessary', 'need', 'needs', 'neither', 'never', 'nevertheless', \n",
        "              'new', 'next', 'nine', 'ninety', 'no', 'nobody', 'non', 'none', 'nonetheless', 'noone', 'nor', \n",
        "              'normally', 'nos', 'not', 'noted', 'nothing', 'now', 'nowhere', 'o', 'obtain', 'obtained', 'obviously', \n",
        "              'of', 'off', 'often', 'oh', 'ok', 'okay', 'old', 'omitted', 'on', 'once', 'one', 'ones', 'only', 'onto', \n",
        "              'or', 'ord', 'other', 'others', 'otherwise', 'ought', 'our', 'ours', 'ourselves', 'out', 'outside', \n",
        "              'over', 'overall', 'owing', 'own', 'p', 'page', 'pages', 'part', 'particular', 'particularly', 'past', \n",
        "              'per', 'perhaps', 'placed', 'please', 'plus', 'poorly', 'possible', 'possibly', 'potentially', 'pp', \n",
        "              'predominantly', 'present', 'previously', 'primarily', 'probably', 'promptly', 'proud', 'provides', \n",
        "              'put', 'q', 'que', 'quickly', 'quite', 'qv', 'r', 'ran', 'rather', 'rd', 're', 'readily', 'really', \n",
        "              'recent', 'recently', 'ref', 'refs', 'regarding', 'regardless', 'regards', 'related', 'relatively', \n",
        "              'research', 'respectively', 'resulted', 'resulting', 'results', 'right', 'run', 's', 'said', 'same', \n",
        "              'saw', 'say', 'saying', 'says', 'sec', 'section', 'see', 'seeing', 'seem', 'seemed', 'seeming', \n",
        "              'seems', 'seen', 'self', 'selves', 'sent', 'seven', 'several', 'shall', 'she', 'shed', \"she'll\", \n",
        "              'shes', 'should', \"shouldn't\", 'show', 'showed', 'shown', 'showns', 'shows', 'significant', \n",
        "              'significantly', 'similar', 'similarly', 'since', 'six', 'slightly', 'so', 'some', 'somebody', \n",
        "              'somehow', 'someone', 'somethan', 'something', 'sometime', 'sometimes', 'somewhat', 'somewhere', \n",
        "              'soon', 'sorry', 'specifically', 'specified', 'specify', 'specifying', 'still', 'stop', 'strongly', \n",
        "              'sub', 'substantially', 'successfully', 'such', 'sufficiently', 'suggest', 'sup', 'sure', 't', \n",
        "              'take', 'taken', 'taking', 'tell', 'tends', 'th', 'than', 'thank', 'thanks', 'thanx', 'that', \n",
        "              \"that'll\", 'thats', \"that've\", 'the', 'their', 'theirs', 'them', 'themselves', 'then', 'thence', \n",
        "              'there', 'thereafter', 'thereby', 'thered', 'therefore', 'therein', \"there'll\", 'thereof', \n",
        "              'therere', 'theres', 'thereto', 'thereupon', \"there've\", 'these', 'they', 'theyd', \"they'll\", \n",
        "              'theyre', \"they've\", 'think', 'this', 'those', 'thou', 'though', 'thoughh', 'thousand', 'throug', \n",
        "              'through', 'throughout', 'thru', 'thus', 'til', 'tip', 'to', 'together', 'too', 'took', 'toward', \n",
        "              'towards', 'tried', 'tries', 'truly', 'try', 'trying', 'ts', 'twice', 'two', 'u', 'un', 'under', \n",
        "              'unfortunately', 'unless', 'unlike', 'unlikely', 'until', 'unto', 'up', 'upon', 'ups', 'us', 'use', \n",
        "              'used', 'useful', 'usefully', 'usefulness', 'uses', 'using', 'usually', 'v', 'value', 'various', \n",
        "              \"'ve\", 'very', 'via', 'viz', 'vol', 'vols', 'vs', 'w', 'want', 'wants', 'was', 'wasnt', 'way', \n",
        "              'we', 'wed', 'welcome', \"we'll\", 'went', 'were', 'werent', \"we've\", 'what', 'whatever', \"what'll\", \n",
        "              'whats', 'when', 'whence', 'whenever', 'where', 'whereafter', 'whereas', 'whereby', 'wherein', \n",
        "              'wheres', 'whereupon', 'wherever', 'whether', 'which', 'while', 'whim', 'whither', 'who', 'whod', \n",
        "              'whoever', 'whole', \"who'll\", 'whom', 'whomever', 'whos', 'whose', 'why', 'widely', 'willing', \n",
        "              'wish', 'with', 'within', 'without', 'wont', 'words', 'world', 'would', 'wouldnt', 'www', 'x', \n",
        "              'y', 'yes', 'yet', 'you', 'youd', \"you'll\", 'your', 'youre', 'yours', 'yourself', 'yourselves', \n",
        "              \"you've\", 'z', 'zero', 'rowling', 've', 'll', '', ' ', '.']"
      ],
      "metadata": {
        "id": "7nkTrIfp3BrM"
      },
      "execution_count": 15,
      "outputs": []
    },
    {
      "cell_type": "code",
      "source": [
        "# create the stop word remover, using 'words' as input, and 'no_stop' as output column.\n",
        "# Set the newly created stop_word list as the stopWords\n",
        "remover = StopWordsRemover(inputCol='words', outputCol='no_stop', stopWords=stop_words)\n",
        "\n",
        "# run the remover transformer on the entire dataframe\n",
        "no_stop = remover.transform(df)\n",
        "\n",
        "# pring first 20\n",
        "no_stop.show()"
      ],
      "metadata": {
        "colab": {
          "base_uri": "https://localhost:8080/"
        },
        "id": "8PhFeIYCeZuV",
        "outputId": "ee4cc267-d367-48d8-f045-68b505bad99c"
      },
      "execution_count": 16,
      "outputs": [
        {
          "output_type": "stream",
          "name": "stdout",
          "text": [
            "+--------------------+--------------------+--------------------+--------------------+\n",
            "|              titles|            sentence|               words|             no_stop|\n",
            "+--------------------+--------------------+--------------------+--------------------+\n",
            "|The Philosophers ...|[the boy who live...|[the, boy, who, l...|[boy, lived, durs...|\n",
            "|The Philosophers ...|[they were the la...|[they, were, the,...|[people, expect, ...|\n",
            "|The Philosophers ...|[mr. dursley was ...|[mr, ., dursley, ...|[dursley, directo...|\n",
            "|The Philosophers ...|[he was big beefy...|[he, was, big, be...|[big, beefy, man,...|\n",
            "|The Philosophers ...|[mrs. dursley was...|[mrs, ., dursley,...|[dursley, thin, b...|\n",
            "|The Philosophers ...|[the dursley had ...|[the, dursley, ha...|[dursley, small, ...|\n",
            "|The Philosophers ...|[the dursleys had...|[the, dursleys, h...|[dursleys, wanted...|\n",
            "|The Philosophers ...|[they didn think ...|[they, didn, thin...|[didn, bear, pott...|\n",
            "|The Philosophers ...|[mrs. potter was ...|[mrs, ., potter, ...|[potter, dursley,...|\n",
            "|The Philosophers ...|[the dursleys shu...|[the, dursleys, s...|[dursleys, shudde...|\n",
            "|The Philosophers ...|[the dursleys kne...|[the, dursleys, k...|[dursleys, knew, ...|\n",
            "|The Philosophers ...|[this boy was ano...|[this, boy, was, ...|[boy, good, reaso...|\n",
            "|The Philosophers ...|[when mr. and mrs...|[when, mr, ., and...|[dursley, woke, d...|\n",
            "|The Philosophers ...|[mr. dursley humm...|[mr, ., dursley, ...|[dursley, hummed,...|\n",
            "|The Philosophers ...|[none of them not...|[none, of, them, ...|[noticed, large, ...|\n",
            "|The Philosophers ...|[at half past eig...|[at, half, past, ...|[half, dursley, p...|\n",
            "|The Philosophers ...|[little tyke chor...|[little, tyke, ch...|[tyke, chortled, ...|\n",
            "|The Philosophers ...|[he got into his ...|[he, got, into, h...|[car, backed, num...|\n",
            "|The Philosophers ...|[it was on the co...|[it, was, on, the...|[corner, street, ...|\n",
            "|The Philosophers ...|[for second mr. d...|[for, second, mr,...|[second, dursley,...|\n",
            "+--------------------+--------------------+--------------------+--------------------+\n",
            "only showing top 20 rows\n",
            "\n"
          ]
        }
      ]
    },
    {
      "cell_type": "markdown",
      "source": [
        "I'm sure there's a better way, but since I'm using the output of sparknlp I can't just change one and have the rest be fine. I want to remove the rest of the punctuation and single letters from the dataset, so I am going to join the 'no_stop' column, remove punctuation and single letters, and then split again. "
      ],
      "metadata": {
        "id": "YyUGC0pH6tyE"
      }
    },
    {
      "cell_type": "code",
      "source": [
        "# make each row a single string instead of list\n",
        "no_stop = no_stop.withColumn(\"clean\", concat_ws(\",\", \"no_stop\"))\n",
        "\n",
        "# remove special characters\n",
        "no_stop = no_stop.withColumn('clean', regexp_replace(no_stop['clean'], \"[^0-9a-zA-Z]+\", ' '))\n",
        "\n",
        "# remove single letters\n",
        "no_stop = no_stop.withColumn('clean', regexp_replace(no_stop['clean'], \"\\s+[a-zA-Z]\\s+\", ' '))\n",
        "\n",
        "# delete extra spaces\n",
        "no_stop = no_stop.withColumn('clean', regexp_replace(no_stop['clean'],\"\\s+\", ' ' ))\n",
        "\n",
        "# split sentences back to words on space\n",
        "no_stop = no_stop.withColumn('clean', split(col(\"clean\"),\" \"))\n",
        "\n",
        "no_stop.show()"
      ],
      "metadata": {
        "colab": {
          "base_uri": "https://localhost:8080/"
        },
        "id": "by1zxfvP3txh",
        "outputId": "a306dca9-8cbb-40fa-bafd-b1d94196e9ae"
      },
      "execution_count": 17,
      "outputs": [
        {
          "output_type": "stream",
          "name": "stdout",
          "text": [
            "+--------------------+--------------------+--------------------+--------------------+--------------------+\n",
            "|              titles|            sentence|               words|             no_stop|               clean|\n",
            "+--------------------+--------------------+--------------------+--------------------+--------------------+\n",
            "|The Philosophers ...|[the boy who live...|[the, boy, who, l...|[boy, lived, durs...|[boy, lived, durs...|\n",
            "|The Philosophers ...|[they were the la...|[they, were, the,...|[people, expect, ...|[people, expect, ...|\n",
            "|The Philosophers ...|[mr. dursley was ...|[mr, ., dursley, ...|[dursley, directo...|[dursley, directo...|\n",
            "|The Philosophers ...|[he was big beefy...|[he, was, big, be...|[big, beefy, man,...|[big, beefy, man,...|\n",
            "|The Philosophers ...|[mrs. dursley was...|[mrs, ., dursley,...|[dursley, thin, b...|[dursley, thin, b...|\n",
            "|The Philosophers ...|[the dursley had ...|[the, dursley, ha...|[dursley, small, ...|[dursley, small, ...|\n",
            "|The Philosophers ...|[the dursleys had...|[the, dursleys, h...|[dursleys, wanted...|[dursleys, wanted...|\n",
            "|The Philosophers ...|[they didn think ...|[they, didn, thin...|[didn, bear, pott...|[didn, bear, pott...|\n",
            "|The Philosophers ...|[mrs. potter was ...|[mrs, ., potter, ...|[potter, dursley,...|[potter, dursley,...|\n",
            "|The Philosophers ...|[the dursleys shu...|[the, dursleys, s...|[dursleys, shudde...|[dursleys, shudde...|\n",
            "|The Philosophers ...|[the dursleys kne...|[the, dursleys, k...|[dursleys, knew, ...|[dursleys, knew, ...|\n",
            "|The Philosophers ...|[this boy was ano...|[this, boy, was, ...|[boy, good, reaso...|[boy, good, reaso...|\n",
            "|The Philosophers ...|[when mr. and mrs...|[when, mr, ., and...|[dursley, woke, d...|[dursley, woke, d...|\n",
            "|The Philosophers ...|[mr. dursley humm...|[mr, ., dursley, ...|[dursley, hummed,...|[dursley, hummed,...|\n",
            "|The Philosophers ...|[none of them not...|[none, of, them, ...|[noticed, large, ...|[noticed, large, ...|\n",
            "|The Philosophers ...|[at half past eig...|[at, half, past, ...|[half, dursley, p...|[half, dursley, p...|\n",
            "|The Philosophers ...|[little tyke chor...|[little, tyke, ch...|[tyke, chortled, ...|[tyke, chortled, ...|\n",
            "|The Philosophers ...|[he got into his ...|[he, got, into, h...|[car, backed, num...|[car, backed, num...|\n",
            "|The Philosophers ...|[it was on the co...|[it, was, on, the...|[corner, street, ...|[corner, street, ...|\n",
            "|The Philosophers ...|[for second mr. d...|[for, second, mr,...|[second, dursley,...|[second, dursley,...|\n",
            "+--------------------+--------------------+--------------------+--------------------+--------------------+\n",
            "only showing top 20 rows\n",
            "\n"
          ]
        }
      ]
    },
    {
      "cell_type": "code",
      "source": [
        "print(no_stop.first()['clean'])"
      ],
      "metadata": {
        "colab": {
          "base_uri": "https://localhost:8080/"
        },
        "id": "eKfqwziN9kDG",
        "outputId": "43525649-3fd7-4649-d31f-2a261416c9c8"
      },
      "execution_count": 18,
      "outputs": [
        {
          "output_type": "stream",
          "name": "stdout",
          "text": [
            "['boy', 'lived', 'dursley', 'number', 'privet', 'drive', 'perfectly', 'normal']\n"
          ]
        }
      ]
    },
    {
      "cell_type": "markdown",
      "source": [
        "### Word Counts\n",
        "From here I would like to get some more counts about various aspects of each book. To do this, I need to group by book. I am going to create one for total word count including stop words, and one without stop words to compare."
      ],
      "metadata": {
        "id": "4mEf6sGd3amQ"
      }
    },
    {
      "cell_type": "code",
      "source": [
        "# take no_stop dataframe, split each word from cleaned column into own row\n",
        "books = no_stop.withColumn('words', explode('clean'))\n",
        "\n",
        "# group words by title and put words in a list in a column called 'words'\n",
        "books = books.groupBy('titles').agg(collect_list('words').alias('words'))\n",
        "books.show()"
      ],
      "metadata": {
        "colab": {
          "base_uri": "https://localhost:8080/"
        },
        "id": "SW7kt4N0H3ha",
        "outputId": "7eaad04e-6db7-4711-864a-8a464bbfdb39"
      },
      "execution_count": 19,
      "outputs": [
        {
          "output_type": "stream",
          "name": "stdout",
          "text": [
            "+--------------------+--------------------+\n",
            "|              titles|               words|\n",
            "+--------------------+--------------------+\n",
            "|  The Goblet of Fire|[riddle, house, v...|\n",
            "|The Half-Blood Pr...|[minister, nearin...|\n",
            "|The Order of the ...|[harry, potter, d...|\n",
            "|The Philosophers ...|[boy, lived, durs...|\n",
            "|The Prisoner of A...|[owl, post, harry...|\n",
            "|The Chamber of Se...|[, , harry, potte...|\n",
            "| The Deathly Hallows|[dark, lord, asce...|\n",
            "+--------------------+--------------------+\n",
            "\n"
          ]
        }
      ]
    },
    {
      "cell_type": "code",
      "source": [
        "# same as above but use the 'words' column (pre stop word removal)\n",
        "books_s = no_stop.withColumn('words', explode('words'))\n",
        "books_s = books_s.groupBy('titles').agg(collect_list('words').alias('words'))\n",
        "books_s.show()"
      ],
      "metadata": {
        "colab": {
          "base_uri": "https://localhost:8080/"
        },
        "id": "pCs7aMsXKT2a",
        "outputId": "74ed1184-d55e-4f3e-b346-b0ea7758b469"
      },
      "execution_count": 20,
      "outputs": [
        {
          "output_type": "stream",
          "name": "stdout",
          "text": [
            "+--------------------+--------------------+\n",
            "|              titles|               words|\n",
            "+--------------------+--------------------+\n",
            "|  The Goblet of Fire|[the, riddle, hou...|\n",
            "|The Half-Blood Pr...|[the, other, mini...|\n",
            "|The Order of the ...|[harry, potter, d...|\n",
            "|The Philosophers ...|[the, boy, who, l...|\n",
            "|The Prisoner of A...|[owl, post, harry...|\n",
            "|The Chamber of Se...|[., ., l, harry, ...|\n",
            "| The Deathly Hallows|[i, the, dark, lo...|\n",
            "+--------------------+--------------------+\n",
            "\n"
          ]
        }
      ]
    },
    {
      "cell_type": "code",
      "source": [
        "# get count of words in each book after stop word removal\n",
        "books = books.withColumn('word_count', size('words'))\n",
        "books.show()"
      ],
      "metadata": {
        "colab": {
          "base_uri": "https://localhost:8080/"
        },
        "id": "mwbEbJ4QK6EB",
        "outputId": "33c48754-3dbf-4259-dec9-de062f62188d"
      },
      "execution_count": 21,
      "outputs": [
        {
          "output_type": "stream",
          "name": "stdout",
          "text": [
            "+--------------------+--------------------+----------+\n",
            "|              titles|               words|word_count|\n",
            "+--------------------+--------------------+----------+\n",
            "|  The Goblet of Fire|[riddle, house, v...|     85716|\n",
            "|The Half-Blood Pr...|[minister, nearin...|     71465|\n",
            "|The Order of the ...|[harry, potter, d...|    109780|\n",
            "|The Philosophers ...|[boy, lived, durs...|     32143|\n",
            "|The Prisoner of A...|[owl, post, harry...|     48115|\n",
            "|The Chamber of Se...|[, , harry, potte...|     37556|\n",
            "| The Deathly Hallows|[dark, lord, asce...|     83120|\n",
            "+--------------------+--------------------+----------+\n",
            "\n"
          ]
        }
      ]
    },
    {
      "cell_type": "code",
      "source": [
        "# convert to pandas, plot word counts after stop word removal\n",
        "word_count = books.toPandas()\n",
        "word_count.plot.bar(x='titles', y='word_count')"
      ],
      "metadata": {
        "colab": {
          "base_uri": "https://localhost:8080/",
          "height": 412
        },
        "id": "sUl18vWxq2du",
        "outputId": "bfd2fb5c-6c11-478b-c8d6-bafc8ef06674"
      },
      "execution_count": 22,
      "outputs": [
        {
          "output_type": "execute_result",
          "data": {
            "text/plain": [
              "<matplotlib.axes._subplots.AxesSubplot at 0x7fa06aa00c90>"
            ]
          },
          "metadata": {},
          "execution_count": 22
        },
        {
          "output_type": "display_data",
          "data": {
            "text/plain": [
              "<Figure size 432x288 with 1 Axes>"
            ],
            "image/png": "[encoded data removed]"
          },
          "metadata": {
            "needs_background": "light"
          }
        }
      ]
    },
    {
      "cell_type": "code",
      "source": [
        "# get count of words in each book before stop word removal\n",
        "books_s = books_s.withColumn('word_count', size('words'))\n",
        "books_s.show()"
      ],
      "metadata": {
        "colab": {
          "base_uri": "https://localhost:8080/"
        },
        "id": "UZI0Of5bK6I0",
        "outputId": "47ef8181-bb4a-4b0c-c48a-1eb18bf0422c"
      },
      "execution_count": 23,
      "outputs": [
        {
          "output_type": "stream",
          "name": "stdout",
          "text": [
            "+--------------------+--------------------+----------+\n",
            "|              titles|               words|word_count|\n",
            "+--------------------+--------------------+----------+\n",
            "|  The Goblet of Fire|[the, riddle, hou...|    208689|\n",
            "|The Half-Blood Pr...|[the, other, mini...|    178354|\n",
            "|The Order of the ...|[harry, potter, d...|    271834|\n",
            "|The Philosophers ...|[the, boy, who, l...|     81808|\n",
            "|The Prisoner of A...|[owl, post, harry...|    114701|\n",
            "|The Chamber of Se...|[., ., l, harry, ...|     90242|\n",
            "| The Deathly Hallows|[i, the, dark, lo...|    208408|\n",
            "+--------------------+--------------------+----------+\n",
            "\n"
          ]
        }
      ]
    },
    {
      "cell_type": "code",
      "source": [
        "# convert to pandas, plot count before stop word removal\n",
        "no_stop_count = books_s.toPandas()\n",
        "no_stop_count.plot.bar(x='titles', y='word_count')"
      ],
      "metadata": {
        "colab": {
          "base_uri": "https://localhost:8080/",
          "height": 412
        },
        "id": "JTPPxbCTrlB5",
        "outputId": "5785039e-ad87-4227-a640-35d7393b65a4"
      },
      "execution_count": 24,
      "outputs": [
        {
          "output_type": "execute_result",
          "data": {
            "text/plain": [
              "<matplotlib.axes._subplots.AxesSubplot at 0x7fa066721990>"
            ]
          },
          "metadata": {},
          "execution_count": 24
        },
        {
          "output_type": "display_data",
          "data": {
            "text/plain": [
              "<Figure size 432x288 with 1 Axes>"
            ],
            "image/png": "[encoded data removed]"
          },
          "metadata": {
            "needs_background": "light"
          }
        }
      ]
    },
    {
      "cell_type": "markdown",
      "source": [
        "Before removing stop words and single letters (even though there still appear to be some in there), there are almost 150k more words in The Order of the Phoenix than without. There are about 43k more words in the Philosoper's Stone before removing stop words. These counts are of unique words. \n",
        "\n",
        "----\n",
        "\n",
        "</br>\n",
        "\n",
        "### Counts by Word\n",
        "By book counts are helpful, but to get an idea of most common words, I needed to explode the data back out to one word per row. This way we can see the most common words per book and how often they occured."
      ],
      "metadata": {
        "id": "qpblPDxtNXRP"
      }
    },
    {
      "cell_type": "code",
      "source": [
        "# create new dataframe that explodes the 'words' column into a new column called 'word'\n",
        "# group by title, then word, and get a count of occurances of that word in each book\n",
        "# sort highest to lowest\n",
        "unique_words = books.withColumn('word', explode(col('words')))\\\n",
        "    .groupBy('titles', 'word')\\\n",
        "    .count()\\\n",
        "    .sort('count', ascending=False)"
      ],
      "metadata": {
        "id": "nNSoAAnDOguF"
      },
      "execution_count": 25,
      "outputs": []
    },
    {
      "cell_type": "code",
      "source": [
        "# filter out blank words (not nulls)\n",
        "unique_words = unique_words.filter(unique_words.word != '')\n",
        "unique_words.show(50)"
      ],
      "metadata": {
        "colab": {
          "base_uri": "https://localhost:8080/"
        },
        "id": "yKUnwg0ROKfD",
        "outputId": "0f88c235-67ce-418d-a3e9-768ff6146607"
      },
      "execution_count": 26,
      "outputs": [
        {
          "output_type": "stream",
          "name": "stdout",
          "text": [
            "+--------------------+----------+-----+\n",
            "|              titles|      word|count|\n",
            "+--------------------+----------+-----+\n",
            "|The Order of the ...|     harry| 4092|\n",
            "|  The Goblet of Fire|     harry| 3598|\n",
            "| The Deathly Hallows|     harry| 3193|\n",
            "|The Half-Blood Pr...|     harry| 2789|\n",
            "|The Prisoner of A...|     harry| 2049|\n",
            "|The Chamber of Se...|     harry| 1658|\n",
            "|The Philosophers ...|     harry| 1325|\n",
            "|The Order of the ...|  hermione| 1307|\n",
            "|The Order of the ...|       ron| 1307|\n",
            "| The Deathly Hallows|  hermione| 1224|\n",
            "| The Deathly Hallows|       ron| 1176|\n",
            "|  The Goblet of Fire|       ron| 1043|\n",
            "|The Half-Blood Pr...|dumbledore| 1034|\n",
            "|The Half-Blood Pr...|       ron|  877|\n",
            "|  The Goblet of Fire|  hermione|  871|\n",
            "|The Prisoner of A...|       ron|  791|\n",
            "|The Chamber of Se...|       ron|  706|\n",
            "|The Half-Blood Pr...|  hermione|  694|\n",
            "|The Prisoner of A...|  hermione|  672|\n",
            "|  The Goblet of Fire|    potter|  664|\n",
            "|The Order of the ...|      well|  664|\n",
            "|The Order of the ...|dumbledore|  661|\n",
            "|The Order of the ...|    sirius|  646|\n",
            "|  The Goblet of Fire|dumbledore|  599|\n",
            "| The Deathly Hallows|      wand|  596|\n",
            "| The Deathly Hallows|dumbledore|  589|\n",
            "|The Order of the ...| professor|  580|\n",
            "|The Order of the ...|  umbridge|  572|\n",
            "|  The Goblet of Fire|      fire|  547|\n",
            "|The Order of the ...|    looked|  540|\n",
            "|  The Goblet of Fire|    goblet|  494|\n",
            "|  The Goblet of Fire|    looked|  489|\n",
            "|The Order of the ...|   weasley|  479|\n",
            "|The Order of the ...|       don|  476|\n",
            "|The Order of the ...|    hagrid|  458|\n",
            "| The Deathly Hallows| voldemort|  446|\n",
            "|The Order of the ...|     voice|  437|\n",
            "| The Deathly Hallows|    looked|  432|\n",
            "|The Philosophers ...|       ron|  429|\n",
            "|  The Goblet of Fire|         k|  427|\n",
            "|The Prisoner of A...| professor|  416|\n",
            "|The Order of the ...|      time|  412|\n",
            "|The Prisoner of A...|     lupin|  408|\n",
            "|The Half-Blood Pr...|      well|  401|\n",
            "|The Half-Blood Pr...|  slughorn|  400|\n",
            "|The Order of the ...|      face|  396|\n",
            "|  The Goblet of Fire|   weasley|  394|\n",
            "|The Prisoner of A...|     black|  390|\n",
            "|The Order of the ...|     going|  386|\n",
            "|The Order of the ...|     snape|  384|\n",
            "+--------------------+----------+-----+\n",
            "only showing top 50 rows\n",
            "\n"
          ]
        }
      ]
    },
    {
      "cell_type": "markdown",
      "source": [
        "These are the most common words in the entire series grouped by book, then word, and then sorted on count. There are still some empty strings in there even after all the processing, so I filtered those out. Overall, some of the most common words are harry, ron, hermione, dumbledore, professor, and hagrid. I could go back to the stop words removal and remove some that might seem relevant, or get counts if I remove all names and see what's left. Here we see the highest word counts first, so the shorter books don't make an appearance in this list unless I want to display more than 50 rows. \n",
        "\n",
        "---\n",
        "\n",
        "## 4. Character Analysis <a name=\"fourth-bullet\"></a>\n",
        "I wanted to know some more about how often some characters appear in each book, and how often they occur in the same sentences. Since attempting to get information on every character would be time consuming and not terribly helpful, I chose to focus on 5: Harry, Ron, Hermione, Dumbledore, and Voldemort"
      ],
      "metadata": {
        "id": "erjfU6A2PWjj"
      }
    },
    {
      "cell_type": "code",
      "source": [
        "# get a complete list of counts for each of the 5 characters, sorted by book and then count\n",
        "characters = unique_words.filter((unique_words.word == 'harry') | (unique_words.word == 'ron') | (unique_words.word == 'hermione') | (unique_words.word == 'dumbledore') | (unique_words.word == 'voldemort'))\\\n",
        "    .sort('titles', 'count')\n",
        "characters.show(35)"
      ],
      "metadata": {
        "colab": {
          "base_uri": "https://localhost:8080/"
        },
        "id": "kqJi994DYVyn",
        "outputId": "deef6eed-f3e9-42ec-b4a9-dae994c0327e"
      },
      "execution_count": 27,
      "outputs": [
        {
          "output_type": "stream",
          "name": "stdout",
          "text": [
            "+--------------------+----------+-----+\n",
            "|              titles|      word|count|\n",
            "+--------------------+----------+-----+\n",
            "|The Chamber of Se...| voldemort|   25|\n",
            "|The Chamber of Se...|dumbledore|  159|\n",
            "|The Chamber of Se...|  hermione|  320|\n",
            "|The Chamber of Se...|       ron|  706|\n",
            "|The Chamber of Se...|     harry| 1658|\n",
            "| The Deathly Hallows| voldemort|  446|\n",
            "| The Deathly Hallows|dumbledore|  589|\n",
            "| The Deathly Hallows|       ron| 1176|\n",
            "| The Deathly Hallows|  hermione| 1224|\n",
            "| The Deathly Hallows|     harry| 3193|\n",
            "|  The Goblet of Fire| voldemort|  237|\n",
            "|  The Goblet of Fire|dumbledore|  599|\n",
            "|  The Goblet of Fire|  hermione|  871|\n",
            "|  The Goblet of Fire|       ron| 1043|\n",
            "|  The Goblet of Fire|     harry| 3598|\n",
            "|The Half-Blood Pr...| voldemort|  244|\n",
            "|The Half-Blood Pr...|  hermione|  694|\n",
            "|The Half-Blood Pr...|       ron|  877|\n",
            "|The Half-Blood Pr...|dumbledore| 1034|\n",
            "|The Half-Blood Pr...|     harry| 2789|\n",
            "|The Order of the ...| voldemort|  211|\n",
            "|The Order of the ...|dumbledore|  661|\n",
            "|The Order of the ...|  hermione| 1307|\n",
            "|The Order of the ...|       ron| 1307|\n",
            "|The Order of the ...|     harry| 4092|\n",
            "|The Philosophers ...| voldemort|   38|\n",
            "|The Philosophers ...|dumbledore|  160|\n",
            "|The Philosophers ...|  hermione|  269|\n",
            "|The Philosophers ...|       ron|  429|\n",
            "|The Philosophers ...|     harry| 1325|\n",
            "|The Prisoner of A...| voldemort|   47|\n",
            "|The Prisoner of A...|dumbledore|  163|\n",
            "|The Prisoner of A...|  hermione|  672|\n",
            "|The Prisoner of A...|       ron|  791|\n",
            "|The Prisoner of A...|     harry| 2049|\n",
            "+--------------------+----------+-----+\n",
            "\n"
          ]
        }
      ]
    },
    {
      "cell_type": "markdown",
      "source": [
        "I specified 5 main characters and counted how many times their names popped up during each book. \n",
        "- As expected, Harry is mentioned the most out of each book. \n",
        "- Despite his importance, Voldemort's name is mentioned the least. This in part is probably since most characters do not refer to him by name, and in the final book, no one can say his name without facing consequences. There is still a pretty large increase in mentions over the course of the series, starting at 38 and finishing at 446. \n",
        "- Dumbledore is mentioned the second least in all books except The Half Blood Prince, where he is second most. This makes sense, since that is the book where he and Harry have the most interaction. \n",
        "- Hermione and Ron are pretty even, with Ron coming out slightly ahead in most books. There is a tie in The Order of the Phoenix, and Hermionioe has more mentions in The Goblet of Fire and The Deathly Hallows. This is probably because Ron doesn't speak to Harry for a good portion of those books. "
      ],
      "metadata": {
        "id": "gpbRoDYyjHEb"
      }
    },
    {
      "cell_type": "code",
      "source": [
        "# count number of times harry and ron appear in same sentence\n",
        "print(\" Harry and Ron appear in the same sentence \" + str(no_stop.filter(array_contains(no_stop.clean, \"harry\") & array_contains(no_stop.clean, \"ron\")).count()) + \" times\")\n",
        "print(\" Harry and Hermione appear in the same sentence \" + str(no_stop.filter(array_contains(no_stop.clean, \"harry\") & array_contains(no_stop.clean, \"hermione\")).count()) + \" times\")\n",
        "print(\" Hermione and Ron appear in the same sentence \" + str(no_stop.filter(array_contains(no_stop.clean, \"ron\") & array_contains(no_stop.clean, \"hermione\")).count()) + \" times\")\n",
        "print(\" Harry and Dumbledore appear in the same sentence \" + str(no_stop.filter(array_contains(no_stop.clean, \"harry\") & array_contains(no_stop.clean, \"dumbledore\")).count()) + \" times\")\n",
        "print(\" Harry and Voldemort appear in the same sentence \" + str(no_stop.filter(array_contains(no_stop.clean, \"harry\") & array_contains(no_stop.clean, \"voldemort\")).count()) + \" times\")\n",
        "print(\" Ron and Dumbledore appear in the same sentence \" + str(no_stop.filter(array_contains(no_stop.clean, \"ron\") & array_contains(no_stop.clean, \"dumbledore\")).count()) + \" times\")\n",
        "print(\" Hermione and Dumbledore appear in the same sentence \" + str(no_stop.filter(array_contains(no_stop.clean, \"hermione\") & array_contains(no_stop.clean, \"dumbledore\")).count()) + \" times\")\n",
        "print(\" Dumbledore and Voldemort appear in the same sentence \" + str(no_stop.filter(array_contains(no_stop.clean, \"dumbledore\") & array_contains(no_stop.clean, \"voldemort\")).count()) + \" times\")\n",
        "print(\" Voldemort and Ron appear in the same sentence \" + str(no_stop.filter(array_contains(no_stop.clean, \"ron\") & array_contains(no_stop.clean, \"voldemort\")).count()) + \" times\")\n",
        "print(\" Hermione and Voldemort appear in the same sentence \" + str(no_stop.filter(array_contains(no_stop.clean, \"hermione\") & array_contains(no_stop.clean, \"voldemort\")).count()) + \" times\")"
      ],
      "metadata": {
        "colab": {
          "base_uri": "https://localhost:8080/"
        },
        "id": "9pZam_XOsHmU",
        "outputId": "c03c1dfd-b690-4f86-815f-114c3cead7fa"
      },
      "execution_count": 28,
      "outputs": [
        {
          "output_type": "stream",
          "name": "stdout",
          "text": [
            " Harry and Ron appear in the same sentence 2207 times\n",
            " Harry and Hermione appear in the same sentence 1889 times\n",
            " Hermione and Ron appear in the same sentence 1645 times\n",
            " Harry and Dumbledore appear in the same sentence 956 times\n",
            " Harry and Voldemort appear in the same sentence 355 times\n",
            " Ron and Dumbledore appear in the same sentence 128 times\n",
            " Hermione and Dumbledore appear in the same sentence 126 times\n",
            " Dumbledore and Voldemort appear in the same sentence 112 times\n",
            " Voldemort and Ron appear in the same sentence 44 times\n",
            " Hermione and Voldemort appear in the same sentence 43 times\n"
          ]
        }
      ]
    },
    {
      "cell_type": "markdown",
      "source": [
        "As a rudimentary method of relationship analysis I counted the occurances of each of Harry, Ron, Hermione, Dumbledore, and Voldemort in a sentance with one other character. In order of strongest to weakest character relationship:\n",
        "- Harry and Ron\n",
        "- Harry and Hermione\n",
        "- Ron and Hermione\n",
        "- Harry and Dumbledore\n",
        "- Harry and Voldemort\n",
        "- Ron and Dumbledore\n",
        "- Hermione and Dumbledore\n",
        "- Ron and Voldemort\n",
        "- Hermione and Voldemort\n",
        "\n",
        "---\n",
        " \n",
        "</br>\n",
        "\n",
        "## 5. Topic Modeling <a name=\"fifth-bullet\"></a>\n",
        "Since I couldn't use SparkNLP to do named entity recognition, I decided to use TF-IDF to determine important words and do some topic modeling. I started by calculating the frequency of each term in a document with CountVectorizer."
      ],
      "metadata": {
        "id": "UtvUiw_H5WdY"
      }
    },
    {
      "cell_type": "code",
      "source": [
        "# the next few cells are from https://medium.com/trustyou-engineering/topic-modelling-with-pyspark-and-spark-nlp-a99d063f1a6e\n",
        "tfizer = CountVectorizer(inputCol='words',\n",
        "                         outputCol='tf_features')\n",
        "tf_model = tfizer.fit(books)\n",
        "tf_result = tf_model.transform(books)"
      ],
      "metadata": {
        "id": "d17ATMLuguWA"
      },
      "execution_count": 29,
      "outputs": []
    },
    {
      "cell_type": "markdown",
      "source": [
        "Get the IDF (inverse frequency of documents where a term occurred)"
      ],
      "metadata": {
        "id": "bNUJS4xfhDph"
      }
    },
    {
      "cell_type": "code",
      "source": [
        "idfizer = IDF(inputCol='tf_features', \n",
        "              outputCol='tf_idf_features')\n",
        "idf_model = idfizer.fit(tf_result)\n",
        "tfidf_result = idf_model.transform(tf_result)"
      ],
      "metadata": {
        "id": "4nDzTjZChGm-"
      },
      "execution_count": 30,
      "outputs": []
    },
    {
      "cell_type": "markdown",
      "source": [
        "Use LDA to identify the predefined number of topics within the data"
      ],
      "metadata": {
        "id": "b9r1aVQOhR1b"
      }
    },
    {
      "cell_type": "code",
      "source": [
        "num_topics = 35\n",
        "max_iter = 100\n",
        "lda = LDA(k=num_topics, \n",
        "          maxIter=max_iter, \n",
        "          featuresCol='tf_idf_features')\n",
        "lda_model = lda.fit(tfidf_result)"
      ],
      "metadata": {
        "id": "kTPPzeWhhVl0"
      },
      "execution_count": 31,
      "outputs": []
    },
    {
      "cell_type": "markdown",
      "source": [
        "View the words that describe the topicsusing a UDF that converts word ids (the actual output for a topic by a topic model) into words:"
      ],
      "metadata": {
        "id": "Q3p7LxZ1ham_"
      }
    },
    {
      "cell_type": "code",
      "source": [
        "vocab = tf_model.vocabulary\n",
        "def get_words(token_list):\n",
        "    return [vocab[token_id] for token_id in token_list]\n",
        "udf_to_words = udf(get_words, ArrayType(StringType()))"
      ],
      "metadata": {
        "id": "Mj1_Gi_JhbRD"
      },
      "execution_count": 32,
      "outputs": []
    },
    {
      "cell_type": "markdown",
      "source": [
        "View words for each modelled topic using describeTopics(). Show 10"
      ],
      "metadata": {
        "id": "sK0Bs1LuhiGT"
      }
    },
    {
      "cell_type": "code",
      "source": [
        "num_top_words = 10\n",
        "topics = lda_model\\\n",
        "     .describeTopics(num_top_words)\\\n",
        "     .withColumn('topicWords', udf_to_words(col('termIndices')))\n",
        "topics.select('topic', 'topicWords').show(truncate=False)"
      ],
      "metadata": {
        "colab": {
          "base_uri": "https://localhost:8080/"
        },
        "id": "vgNWRSAUhhZE",
        "outputId": "6b2906be-b641-49c1-f509-8f72f8cb943d"
      },
      "execution_count": 33,
      "outputs": [
        {
          "output_type": "stream",
          "name": "stdout",
          "text": [
            "+-----+---------------------------------------------------------------------------------------------------------+\n",
            "|topic|topicWords                                                                                               |\n",
            "+-----+---------------------------------------------------------------------------------------------------------+\n",
            "|0    |[misty, aids, dimmer, needin, centaur, paralyze, greatest, edgily, infuriated, pointedly]                |\n",
            "|1    |[bugs, intents, dabbling, fibs, issue, whoosh, hops, spanning, oddballs, draughts]                       |\n",
            "|2    |[wiped, invite, refuge, blazing, gobletful, wail, examination, mistrustful, mundanely, kidnapped]        |\n",
            "|3    |[lupin, pettigrew, marge, dementors, scabbers, boggart, trelawney, buckbeak, firebolt, crookshanks]      |\n",
            "|4    |[furry, reproduce, saucers, eagle, reentered, presses, translucent, referee, bes, pensive]               |\n",
            "|5    |[slughorn, mclaggen, morfin, merope, horcrux, felix, hokey, felicis, demelza, romilda]                   |\n",
            "|6    |[spore, disarm, ramparts, reopened, sports, twinkling, herbert, widened, loped, curse]                   |\n",
            "|7    |[stationed, concern, deciphered, crumpets, disrepair, chews, orange, burning, fondly, spellbooks]        |\n",
            "|8    |[champions, ludo, karkaroff, beauxbatons, roberts, bagman, horntail, tents, troy, omnioculars]           |\n",
            "|9    |[restricted, namby, shag, tightness, marius, vouched, dorr, terms, twenty, house]                        |\n",
            "|10   |[motionless, rub, conductor, embarrassingly, scrabbling, river, dejectedly, bossing, perpetrator, abated]|\n",
            "|11   |[umbridge, pettigrew, lupin, luna, sirius, tonks, marge, ern, firebolt, dementors]                       |\n",
            "|12   |[dirigible, flowered, appreciate, repayment, precise, chews, raid, seething, assistant, selwyn]          |\n",
            "|13   |[hallows, xenophilius, horcrux, ariana, diadem, greyback, grindelwald, yaxley, aberforth, travers]       |\n",
            "|14   |[kwikspell, mason, patrick, stall, flowerpot, rooster, mandrake, mandrakes, yeti, roosters]              |\n",
            "|15   |[umbridge, kreacher, tonks, luna, inquisitor, bellatrix, sirius, clipboard, grawp, prophecy]             |\n",
            "|16   |[hairless, rapturously, freckled, signaled, splendid, buoy, forthwith, baseless, fourposter, thestralsl] |\n",
            "|17   |[risked, dwells, trustworthy, plantes, directing, unmelodious, scrap, pouted, hedgerow, ingredient]      |\n",
            "|18   |[champions, ludo, karkaroff, beauxbatons, bulgarian, bagman, bertha, horntail, amos, roberts]            |\n",
            "|19   |[unblemished, editor, boughs, petulantly, cups, desecrated, predisposed, steady, tasty, copious]         |\n",
            "+-----+---------------------------------------------------------------------------------------------------------+\n",
            "only showing top 20 rows\n",
            "\n"
          ]
        }
      ]
    },
    {
      "cell_type": "markdown",
      "source": [
        "Some of the topics are very vague, and there are a lot of words shared between them. Many of them seem like just a list of names. It might be beneficial to perform LDA individually on each book for separate topic lists, and to remove common names to see how that changes the output. "
      ],
      "metadata": {
        "id": "hPM5ErE8iaGb"
      }
    },
    {
      "cell_type": "markdown",
      "source": [
        "## 6. Conclusion <a name=\"sixth-bullet\"></a>\n",
        "Despite being unable to get SparkNLP to fully work without running out of RAM, I was still able to use it for some of the breakdown and preparation of the text. I am hoping that I can get a working environment in the future so I can play with some of the pretrained models to see how they hold up against books that I know so well. I didn't end up getting to the part of my project where I was going to move out of spark and create a neural network for text generation, but I'm working on it and hope to be done next week! Overall my Harry Potter knowledge and understanding was confirmed, including most common words, longest books, character interactions, etc. I would like to keep playing with the topic modeling part to see if I can increase the usefulness of the topics, specifically to generate by book topics. I just couldn't feasably do that right now since it takes an unfortunate amount of time to run this entire notebooks. "
      ],
      "metadata": {
        "id": "FTi-r8vvy0Pt"
      }
    }
  ]
}